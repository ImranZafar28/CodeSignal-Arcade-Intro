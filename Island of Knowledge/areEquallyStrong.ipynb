{
 "cells": [
  {
   "cell_type": "markdown",
   "id": "f02da95b-de9d-41a5-b217-a6adeeed6762",
   "metadata": {},
   "source": [
    "**areEquallyStron**\n",
    "\n",
    "Call two arms equally strong if the heaviest weights they each are able to lift are equal.\r\n",
    "\r\n",
    "Call two people equally strong if their strongest arms are equally strong (the strongest arm can be both the right and the left), and so are their weakest arms.\r\n",
    "\r\n",
    "Given your and your friend's arms' lifting capabilities find out if you two are equally strong."
   ]
  },
  {
   "cell_type": "markdown",
   "id": "95dd9f2b-4d56-442a-b81e-fa170452c698",
   "metadata": {},
   "source": [
    "**Example**\n",
    "\n",
    "For yourLeft = 10, yourRight = 15, friendsLeft = 15, and friendsRight = 10, the output should be solution(yourLeft, yourRight, friendsLeft, friendsRight) = true;\n",
    "\n",
    "For yourLeft = 15, yourRight = 10, friendsLeft = 15, and friendsRight = 10, the output should be solution(yourLeft, yourRight, friendsLeft, friendsRight) = true;\n",
    "\n",
    "For yourLeft = 15, yourRight = 10, friendsLeft = 15, and friendsRight = 9, the output should be solution(yourLeft, yourRight, friendsLeft, friendsRight) = false."
   ]
  },
  {
   "cell_type": "markdown",
   "id": "4469b538-851f-4f3d-b868-b7b1ad24f64f",
   "metadata": {},
   "source": [
    "**Solution:**"
   ]
  },
  {
   "cell_type": "code",
   "execution_count": 4,
   "id": "f73f10cb-c13d-42e7-ab94-1bfe9f0afa6b",
   "metadata": {},
   "outputs": [],
   "source": [
    "def solution(yourLeft, yourRight, friendsLeft, friendsRight):\n",
    "    return {yourLeft,yourRight}=={friendsLeft,friendsRight}"
   ]
  },
  {
   "cell_type": "code",
   "execution_count": 6,
   "id": "b1891bdf-e58c-4226-a3a7-058aebd43b46",
   "metadata": {},
   "outputs": [
    {
     "data": {
      "text/plain": [
       "True"
      ]
     },
     "execution_count": 6,
     "metadata": {},
     "output_type": "execute_result"
    }
   ],
   "source": [
    "solution(10, 15, 15, 10)"
   ]
  },
  {
   "cell_type": "code",
   "execution_count": 8,
   "id": "a5f4580a-5c4e-4202-933e-e13072261db6",
   "metadata": {},
   "outputs": [
    {
     "data": {
      "text/plain": [
       "True"
      ]
     },
     "execution_count": 8,
     "metadata": {},
     "output_type": "execute_result"
    }
   ],
   "source": [
    "solution(15, 10, 15, 10)"
   ]
  },
  {
   "cell_type": "code",
   "execution_count": 10,
   "id": "f2c61e7d-e749-443a-a5eb-b3ab885d3bf4",
   "metadata": {},
   "outputs": [
    {
     "data": {
      "text/plain": [
       "False"
      ]
     },
     "execution_count": 10,
     "metadata": {},
     "output_type": "execute_result"
    }
   ],
   "source": [
    "solution(15, 10, 15, 9)"
   ]
  }
 ],
 "metadata": {
  "kernelspec": {
   "display_name": "Python 3 (ipykernel)",
   "language": "python",
   "name": "python3"
  },
  "language_info": {
   "codemirror_mode": {
    "name": "ipython",
    "version": 3
   },
   "file_extension": ".py",
   "mimetype": "text/x-python",
   "name": "python",
   "nbconvert_exporter": "python",
   "pygments_lexer": "ipython3",
   "version": "3.12.4"
  }
 },
 "nbformat": 4,
 "nbformat_minor": 5
}
