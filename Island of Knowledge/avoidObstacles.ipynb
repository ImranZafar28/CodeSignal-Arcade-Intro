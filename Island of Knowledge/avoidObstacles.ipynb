{
 "cells": [
  {
   "cell_type": "markdown",
   "id": "f7db120f-8220-4752-b734-0376d8e46605",
   "metadata": {},
   "source": [
    "**avoidObstacles**\n",
    "\n",
    "You are given an array of integers representing coordinates of obstacles situated on a straight line.\r\n",
    "\r\n",
    "Assume that you are jumping from the point with coordinate 0 to the right. You are allowed only to make jumps of the same length represented by some integer.\r\n",
    "\r\n",
    "Find the minimal length of the jump enough to avoid all the obstacles."
   ]
  },
  {
   "cell_type": "markdown",
   "id": "da83452d-f75d-449d-ab00-d47fbe5776fd",
   "metadata": {},
   "source": [
    "**Example**\n",
    "\n",
    "For inputArray = [5, 3, 6, 7, 9], the output should be solution(inputArray) = 4."
   ]
  },
  {
   "cell_type": "markdown",
   "id": "8885de0f-2c49-47a3-8074-5f54dc7b9f3f",
   "metadata": {},
   "source": [
    "**Solution:**"
   ]
  },
  {
   "cell_type": "code",
   "execution_count": 4,
   "id": "d9e0afec-d207-449e-9371-e4a851ff40ba",
   "metadata": {},
   "outputs": [],
   "source": [
    "def solution(inputArray):\n",
    "    j = 2\n",
    "    while True:\n",
    "        a = True\n",
    "        for i in inputArray:\n",
    "            if i % j == 0:\n",
    "                a = False\n",
    "                break\n",
    "        if a:\n",
    "            return j\n",
    "        j += 1"
   ]
  },
  {
   "cell_type": "code",
   "execution_count": 6,
   "id": "7fa7d8ac-4055-42b7-beb8-da89fd9b4127",
   "metadata": {},
   "outputs": [
    {
     "data": {
      "text/plain": [
       "4"
      ]
     },
     "execution_count": 6,
     "metadata": {},
     "output_type": "execute_result"
    }
   ],
   "source": [
    "solution([5, 3, 6, 7, 9])"
   ]
  }
 ],
 "metadata": {
  "kernelspec": {
   "display_name": "Python 3 (ipykernel)",
   "language": "python",
   "name": "python3"
  },
  "language_info": {
   "codemirror_mode": {
    "name": "ipython",
    "version": 3
   },
   "file_extension": ".py",
   "mimetype": "text/x-python",
   "name": "python",
   "nbconvert_exporter": "python",
   "pygments_lexer": "ipython3",
   "version": "3.12.4"
  }
 },
 "nbformat": 4,
 "nbformat_minor": 5
}
