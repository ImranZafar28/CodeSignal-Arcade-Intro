{
 "cells": [
  {
   "cell_type": "markdown",
   "id": "0fa8001e-df61-4730-92b4-f6774eaf4c5e",
   "metadata": {},
   "source": [
    "**Minesweeper**\n",
    "\n",
    "In the popular Minesweeper game you have a board with some mines and those cells that don't contain a mine have a number in it that indicates the total number of mines in the neighboring cells. Starting off with some arrangement of mines we want to create a Minesweeper game setup."
   ]
  },
  {
   "cell_type": "markdown",
   "id": "1d7209e6-22c7-4d05-baf2-c83ed2d4d8dc",
   "metadata": {},
   "source": [
    "**Example**\n",
    "\n",
    "For\n",
    "matrix = [[true, false, false],\n",
    "          [false, true, false],\n",
    "          [false, false, false]]\n",
    "\n",
    "the output should be\n",
    "\n",
    "solution(matrix) = [[1, 2, 1],\n",
    "                    [2, 1, 1],\n",
    "                    [1, 1, 1]]"
   ]
  },
  {
   "cell_type": "markdown",
   "id": "12d2fc83-b463-48fd-828d-f052ed63c584",
   "metadata": {},
   "source": [
    "**Solution:**"
   ]
  },
  {
   "cell_type": "code",
   "execution_count": 4,
   "id": "55190d7b-1e35-43c7-981c-207d7d640e88",
   "metadata": {},
   "outputs": [],
   "source": [
    "def solution(matrix):\n",
    "    mines = [[0 for j in i] for i in matrix]\n",
    "    count = 0\n",
    "    for r in range(len(matrix)):\n",
    "        for c in range(len(matrix[0])):\n",
    "            if c == 0:\n",
    "                pass\n",
    "            else:\n",
    "                if matrix[r][c-1] == True:\n",
    "                    count += 1\n",
    "            if r == 0 or c == 0:\n",
    "                pass\n",
    "            else:\n",
    "                if matrix[r-1][c-1] == True:\n",
    "                    count += 1\n",
    "            if r == 0:\n",
    "                pass\n",
    "            else:\n",
    "                if matrix[r-1][c] == True:\n",
    "                    count += 1\n",
    "            if r == 0 or c == len(matrix[0])-1:\n",
    "                pass\n",
    "            else:\n",
    "                if matrix[r-1][c+1] == True:\n",
    "                    count += 1\n",
    "            if c == len(matrix[0])-1:\n",
    "                pass\n",
    "            else:\n",
    "                if matrix[r][c+1] == True:\n",
    "                    count += 1\n",
    "            if r == len(matrix)-1 or c == len(matrix[0])-1:\n",
    "                pass\n",
    "            else:\n",
    "                if matrix[r+1][c+1] == True:\n",
    "                    count += 1\n",
    "            if r == len(matrix)-1:\n",
    "                pass\n",
    "            else:\n",
    "                if matrix[r+1][c] == True:\n",
    "                    count += 1\n",
    "            if r == len(matrix)-1 or c == 0:\n",
    "                pass\n",
    "            else:\n",
    "                if matrix[r+1][c-1] == True:\n",
    "                    count += 1\n",
    "            mines[r][c] = count\n",
    "            count = 0\n",
    "    return mines\n"
   ]
  },
  {
   "cell_type": "code",
   "execution_count": 8,
   "id": "428726f0-b890-4473-8b25-eaf7f4e4caad",
   "metadata": {},
   "outputs": [
    {
     "data": {
      "text/plain": [
       "[[1, 2, 1], [2, 1, 1], [1, 1, 1]]"
      ]
     },
     "execution_count": 8,
     "metadata": {},
     "output_type": "execute_result"
    }
   ],
   "source": [
    "matrix = [[True, False, False],\n",
    "          [False, True, False],\n",
    "          [False, False, False]]\n",
    "solution(matrix)"
   ]
  }
 ],
 "metadata": {
  "kernelspec": {
   "display_name": "Python 3 (ipykernel)",
   "language": "python",
   "name": "python3"
  },
  "language_info": {
   "codemirror_mode": {
    "name": "ipython",
    "version": 3
   },
   "file_extension": ".py",
   "mimetype": "text/x-python",
   "name": "python",
   "nbconvert_exporter": "python",
   "pygments_lexer": "ipython3",
   "version": "3.12.4"
  }
 },
 "nbformat": 4,
 "nbformat_minor": 5
}
