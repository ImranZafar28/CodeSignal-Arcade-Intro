{
 "cells": [
  {
   "cell_type": "markdown",
   "id": "0a50cde1-527c-4c74-9bc0-094ecc147e09",
   "metadata": {},
   "source": [
    "**arrayMaximalAdjacentDifference**\n",
    "\n",
    "Given an array of integers, find the maximal absolute difference between any two of its adjacent elements.\n",
    "\n",
    "**Example**\r\n",
    "\r\n",
    "For inputArray = [2, 4, 1, 0], the output should  e\r\n",
    "solution(inputArray) = 3."
   ]
  },
  {
   "cell_type": "markdown",
   "id": "30246d61-cf25-4611-a474-a010905f3651",
   "metadata": {},
   "source": [
    "**Solution 1:**"
   ]
  },
  {
   "cell_type": "code",
   "execution_count": 3,
   "id": "863a9fd6-b5e6-402f-aef5-5746ee4cb5e3",
   "metadata": {},
   "outputs": [],
   "source": [
    "def solution(inputArray):\n",
    "    d = 0\n",
    "    for i in range(len(inputArray)-1):\n",
    "        x = abs(inputArray[i] - inputArray[i+1])\n",
    "        d = x if d <= x else d\n",
    "    return d"
   ]
  },
  {
   "cell_type": "code",
   "execution_count": 5,
   "id": "720ec92e-1b40-4738-a0b7-f6b0f3f77f7c",
   "metadata": {},
   "outputs": [
    {
     "data": {
      "text/plain": [
       "3"
      ]
     },
     "execution_count": 5,
     "metadata": {},
     "output_type": "execute_result"
    }
   ],
   "source": [
    "solution([2, 4, 1, 0])"
   ]
  },
  {
   "cell_type": "markdown",
   "id": "881b1c27-0811-4807-ab3c-9e85beab1a59",
   "metadata": {},
   "source": [
    "**Solution 2:**"
   ]
  },
  {
   "cell_type": "code",
   "execution_count": 9,
   "id": "5b1db930-13fb-48cc-933b-7e1203ae99dd",
   "metadata": {},
   "outputs": [],
   "source": [
    "def solution(inputArray):\n",
    "    d = []\n",
    "    for i in range(len(inputArray)-1):\n",
    "        if inputArray[i+1] - inputArray[i] < 0:\n",
    "            d.append(inputArray[i] - inputArray[i+1])\n",
    "        else:\n",
    "            d.append(inputArray[i+1] - inputArray[i])\n",
    "    return max(d)"
   ]
  },
  {
   "cell_type": "code",
   "execution_count": 11,
   "id": "64d72528-d930-4b4a-a192-e905cff777e4",
   "metadata": {},
   "outputs": [
    {
     "data": {
      "text/plain": [
       "3"
      ]
     },
     "execution_count": 11,
     "metadata": {},
     "output_type": "execute_result"
    }
   ],
   "source": [
    "solution([2, 4, 1, 0])"
   ]
  }
 ],
 "metadata": {
  "kernelspec": {
   "display_name": "Python 3 (ipykernel)",
   "language": "python",
   "name": "python3"
  },
  "language_info": {
   "codemirror_mode": {
    "name": "ipython",
    "version": 3
   },
   "file_extension": ".py",
   "mimetype": "text/x-python",
   "name": "python",
   "nbconvert_exporter": "python",
   "pygments_lexer": "ipython3",
   "version": "3.12.4"
  }
 },
 "nbformat": 4,
 "nbformat_minor": 5
}
