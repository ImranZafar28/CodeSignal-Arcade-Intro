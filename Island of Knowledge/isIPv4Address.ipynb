{
 "cells": [
  {
   "cell_type": "markdown",
   "id": "110997a0-bf22-4d26-941c-ed63019ea2aa",
   "metadata": {},
   "source": [
    "**isIPv4Address**\n",
    "\n",
    "An IP address is a numerical label assigned to each device (e.g., computer, printer) participating in a computer network that uses the Internet Protocol for communication. There are two versions of the Internet protocol, and thus two versions of addresses. One of them is the IPv4 address.\r\n",
    "\r\n",
    "Given a string, find out if it satisfies the IPv4 address naming rules."
   ]
  },
  {
   "cell_type": "markdown",
   "id": "bd89310c-1ff8-4fd3-bf7d-c3039be28822",
   "metadata": {},
   "source": [
    "**Example**\r\n",
    "\r\n",
    "For inputString = \"172.16.254.1\", the output should  e\r\n",
    "solution(inputString) = true;\r\n",
    "\r\n",
    "For inputString = \"172.316.254.1\", the output shou d be\r\n",
    "solution(inputString) = false.\r\n",
    "\r\n",
    "316 is not in range [0, 255].\r\n",
    "\r\n",
    "For inputString = \".254.255.0\", the output should be\r\n",
    "solution(inputString) = false.\r\n",
    "\r\n",
    "There is no first number."
   ]
  },
  {
   "cell_type": "markdown",
   "id": "e704f89c-d68c-4c25-86b4-6c94d129fe64",
   "metadata": {},
   "source": [
    "**Solution:**"
   ]
  },
  {
   "cell_type": "code",
   "execution_count": 4,
   "id": "3dc0b578-6453-4609-8656-5f62350370f9",
   "metadata": {},
   "outputs": [],
   "source": [
    "def solution(inputString):\n",
    "    s = inputString.split('.')\n",
    "    if len(s) != 4:\n",
    "        return False\n",
    "        \n",
    "    for i in range(4):\n",
    "        if s[i] == '':\n",
    "            return False\n",
    "        if len(s[i]) > 1 and s[i][0] == '0':\n",
    "            return False\n",
    "        \n",
    "    num = ['0','1','2','3','4','5','6','7','8','9']\n",
    "    for x in s:\n",
    "        for y in range(len(x)):\n",
    "            if x[y] not in num:\n",
    "                return False\n",
    "        \n",
    "    intList = (int(x) for x in s)\n",
    "\n",
    "    for j in intList:\n",
    "        if j < 0:\n",
    "            return False\n",
    "        if j > 255:\n",
    "            return False\n",
    "    return True"
   ]
  },
  {
   "cell_type": "code",
   "execution_count": 6,
   "id": "1b7b8502-8dfb-489f-89f9-2b00d890b667",
   "metadata": {},
   "outputs": [
    {
     "data": {
      "text/plain": [
       "True"
      ]
     },
     "execution_count": 6,
     "metadata": {},
     "output_type": "execute_result"
    }
   ],
   "source": [
    "inputString = \"172.16.254.1\"\n",
    "solution(inputString)"
   ]
  },
  {
   "cell_type": "code",
   "execution_count": 8,
   "id": "60cf2306-03b8-452e-a424-ff6bce37674c",
   "metadata": {},
   "outputs": [
    {
     "data": {
      "text/plain": [
       "False"
      ]
     },
     "execution_count": 8,
     "metadata": {},
     "output_type": "execute_result"
    }
   ],
   "source": [
    "inputString = \"172.316.254.1\"\n",
    "solution(inputString)"
   ]
  },
  {
   "cell_type": "code",
   "execution_count": 10,
   "id": "2da3111a-53f8-4afc-b9eb-77ce580662fc",
   "metadata": {},
   "outputs": [
    {
     "data": {
      "text/plain": [
       "False"
      ]
     },
     "execution_count": 10,
     "metadata": {},
     "output_type": "execute_result"
    }
   ],
   "source": [
    "inputString = \".254.255.0\"\n",
    "solution(inputString)"
   ]
  }
 ],
 "metadata": {
  "kernelspec": {
   "display_name": "Python 3 (ipykernel)",
   "language": "python",
   "name": "python3"
  },
  "language_info": {
   "codemirror_mode": {
    "name": "ipython",
    "version": 3
   },
   "file_extension": ".py",
   "mimetype": "text/x-python",
   "name": "python",
   "nbconvert_exporter": "python",
   "pygments_lexer": "ipython3",
   "version": "3.12.4"
  }
 },
 "nbformat": 4,
 "nbformat_minor": 5
}
