{
 "cells": [
  {
   "cell_type": "markdown",
   "id": "fd98f1a8-abcc-4ec5-92b2-a163730543a3",
   "metadata": {},
   "source": [
    "**Box Blur**\n",
    "\n",
    "Last night you partied a little too hard. Now there's a black and white photo of you that's about to go viral! You can't let this ruin your reputation, so you want to apply the box blur algorithm to the photo to hide its content.\r\n",
    "\r\n",
    "The pixels in the input image are represented as integers. The algorithm distorts the input image in the following way: Every pixel x in the output image has a value equal to the average value of the pixel values from the 3 × 3 square that has its center at x, including x itself. All the pixels on the border of x are then removed.\r\n",
    "\r\n",
    "Return the blurred image as an integer, with the fractions rounded down."
   ]
  },
  {
   "cell_type": "markdown",
   "id": "31c062f4-9bab-48e8-99d0-fd7215745d29",
   "metadata": {},
   "source": [
    "**Example**\n",
    "\n",
    "For\n",
    "image = [[1, 1, 1], \n",
    "         [1, 7, 1], \n",
    "         [1, 1, 1]]\n",
    "\n",
    "the output should be solution(image) = [[1]].\n",
    "\n",
    "To get the value of the middle pixel in the input 3 × 3 square: (1 + 1 + 1 + 1 + 7 + 1 + 1 + 1 + 1) = 15 / 9 = 1.66666 = 1. The border pixels are cropped from the final result.\n",
    "\n",
    "For\n",
    "image = [[7, 4, 0, 1], \n",
    "         [5, 6, 2, 2], \n",
    "         [6, 10, 7, 8], \n",
    "         [1, 4, 2, 0]]\n",
    "\n",
    "the output should be\n",
    "solution(image) = [[5, 4], \n",
    "                   [4, 4]]\n",
    "There are four 3 × 3 squares in the input image, so there should be four integers in the blurred output. To get the first value: (7 + 4 + 0 + 5 + 6 + 2 + 6 + 10 + 7) = 47 / 9 = 5.2222 = 5. The other three integers are obtained the same way, then the surrounding integers are cropped from the final result."
   ]
  },
  {
   "cell_type": "markdown",
   "id": "65455e3b-84d9-42a7-a02f-007390f55acf",
   "metadata": {},
   "source": [
    "**Solution:**"
   ]
  },
  {
   "cell_type": "code",
   "execution_count": 4,
   "id": "27b5cdab-9a80-4658-9a8d-1411398f829e",
   "metadata": {},
   "outputs": [],
   "source": [
    "def solution(image):\n",
    "    answer=[]\n",
    "    for i in range(len(image)-2):\n",
    "        ans=[]\n",
    "        for j in range(len(image[0])-2):\n",
    "            ans.append(sum([image[i+k][j+s] for k in [0,1,2] for s in [0,1,2]])//9)\n",
    "        answer.append(ans)\n",
    "    return answer"
   ]
  },
  {
   "cell_type": "code",
   "execution_count": 6,
   "id": "7ae26eeb-8202-42bf-aa51-50c8c95aa715",
   "metadata": {},
   "outputs": [
    {
     "data": {
      "text/plain": [
       "[[5, 4], [4, 4]]"
      ]
     },
     "execution_count": 6,
     "metadata": {},
     "output_type": "execute_result"
    }
   ],
   "source": [
    "solution([[7, 4, 0, 1], \n",
    "         [5, 6, 2, 2], \n",
    "         [6, 10, 7, 8], \n",
    "         [1, 4, 2, 0]])"
   ]
  }
 ],
 "metadata": {
  "kernelspec": {
   "display_name": "Python 3 (ipykernel)",
   "language": "python",
   "name": "python3"
  },
  "language_info": {
   "codemirror_mode": {
    "name": "ipython",
    "version": 3
   },
   "file_extension": ".py",
   "mimetype": "text/x-python",
   "name": "python",
   "nbconvert_exporter": "python",
   "pygments_lexer": "ipython3",
   "version": "3.12.4"
  }
 },
 "nbformat": 4,
 "nbformat_minor": 5
}
