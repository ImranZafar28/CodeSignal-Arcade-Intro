{
 "cells": [
  {
   "cell_type": "markdown",
   "id": "3b363bd9-1387-4b5e-a5be-3df70687c61f",
   "metadata": {},
   "source": [
    "**Sort by Height**\n",
    "\n",
    "Some people are standing in a row in a park. There are trees between them which cannot be moved. Your task is to rearrange the people by their heights in a non-descending order without moving the trees. People can be very tall!190]."
   ]
  },
  {
   "cell_type": "markdown",
   "id": "bee5bfce-4fbe-4cda-b1bc-e5ae9ab62b94",
   "metadata": {},
   "source": [
    "**Example**\n",
    "\n",
    "For a = [-1, 150, 190, 170, -1, -1, 160, 180],\n",
    "\n",
    "the output should be solution(a) = [-1, 150, 160, 170, -1, -1, 180, 190]."
   ]
  },
  {
   "cell_type": "markdown",
   "id": "3ee4191a-8a85-4117-9efc-b45a8b2b0fe6",
   "metadata": {},
   "source": [
    "**Solution:**"
   ]
  },
  {
   "cell_type": "code",
   "execution_count": 5,
   "id": "156bd17d-683f-45f8-a27a-2a773d5d7b6c",
   "metadata": {},
   "outputs": [],
   "source": [
    "def solution(a):\n",
    "    for i in range(len(a)-1):\n",
    "        for j in range(i+1,len(a)):\n",
    "            if a[j] == -1:\n",
    "                pass\n",
    "            elif a[i] > a[j]:\n",
    "                a[i],a[j] = a[j],a[i]\n",
    "    return a"
   ]
  },
  {
   "cell_type": "code",
   "execution_count": 7,
   "id": "8d07c5e0-6c16-4db1-a456-3ade4d8874e0",
   "metadata": {},
   "outputs": [
    {
     "data": {
      "text/plain": [
       "[-1, 150, 160, 170, -1, -1, 180, 190]"
      ]
     },
     "execution_count": 7,
     "metadata": {},
     "output_type": "execute_result"
    }
   ],
   "source": [
    "a = [-1, 150, 190, 170, -1, -1, 160, 180]\n",
    "solution(a)"
   ]
  }
 ],
 "metadata": {
  "kernelspec": {
   "display_name": "Python 3 (ipykernel)",
   "language": "python",
   "name": "python3"
  },
  "language_info": {
   "codemirror_mode": {
    "name": "ipython",
    "version": 3
   },
   "file_extension": ".py",
   "mimetype": "text/x-python",
   "name": "python",
   "nbconvert_exporter": "python",
   "pygments_lexer": "ipython3",
   "version": "3.12.4"
  }
 },
 "nbformat": 4,
 "nbformat_minor": 5
}
