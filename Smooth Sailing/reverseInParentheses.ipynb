{
 "cells": [
  {
   "cell_type": "markdown",
   "id": "9197b197-317a-41ec-86fd-8481638fc562",
   "metadata": {},
   "source": [
    "**reverseInParentheses**\n",
    "\n",
    "Write a function that reverses characters in (possibly nested) parentheses in the input string.\r\n",
    "\r\n",
    "Input strings will always be well-formed with matching ()s."
   ]
  },
  {
   "cell_type": "markdown",
   "id": "d7b5b67f-0959-41ad-98ed-3a3ad79c11bb",
   "metadata": {},
   "source": [
    "**Example**\n",
    "\n",
    "For inputString = \"(bar)\", the output should be solution(inputString) = \"rab\";\n",
    "\n",
    "\n",
    "For inputString = \"foo(bar)baz\", the output should be solution(inputString) = \"foorabbaz\";\n",
    "\n",
    "\n",
    "For inputString = \"foo(bar)baz(blim)\", the output should be solution(inputString) = \"foorabbazmilb\";\n",
    "\n",
    "\n",
    "For inputString = \"foo(bar(baz))blim\", the output should be solution(inputString) = \"foobazrabblim\".\n",
    "\n",
    "\n",
    "Because \"foo(bar(baz))blim\" becomes \"foo(barzab)blim\" and then \"foobazrabblim\"."
   ]
  },
  {
   "cell_type": "markdown",
   "id": "b0f043f9-710c-4c67-8617-83131bc8cb94",
   "metadata": {},
   "source": [
    "**Solution:**"
   ]
  },
  {
   "cell_type": "code",
   "execution_count": 5,
   "id": "c1439c93-a88e-4a0e-827a-2bae8bb3cf65",
   "metadata": {},
   "outputs": [],
   "source": [
    "def solution(inputString):\n",
    "    if \"(\" not in inputString:\n",
    "        return inputString\n",
    "    else:\n",
    "        for i in range(len(inputString)):\n",
    "            if inputString[i] == \"(\":\n",
    "                ob = i\n",
    "            if inputString[i] == \")\":\n",
    "                cb = i\n",
    "                break\n",
    "        inputString = inputString[:ob] + inputString[cb-1:ob:-1] + inputString[cb+1:]\n",
    "        return solution(inputString)"
   ]
  },
  {
   "cell_type": "code",
   "execution_count": 7,
   "id": "5b5c37c1-c1ff-4ae5-97fc-a031de8b2b6b",
   "metadata": {},
   "outputs": [
    {
     "data": {
      "text/plain": [
       "'rab'"
      ]
     },
     "execution_count": 7,
     "metadata": {},
     "output_type": "execute_result"
    }
   ],
   "source": [
    "inputString = \"(bar)\"\n",
    "solution(inputString)"
   ]
  },
  {
   "cell_type": "code",
   "execution_count": 9,
   "id": "3a174bdf-e980-402d-9cbc-c23f03612ab3",
   "metadata": {},
   "outputs": [
    {
     "data": {
      "text/plain": [
       "'foorabbaz'"
      ]
     },
     "execution_count": 9,
     "metadata": {},
     "output_type": "execute_result"
    }
   ],
   "source": [
    "inputString = \"foo(bar)baz\"\n",
    "solution(inputString)"
   ]
  },
  {
   "cell_type": "code",
   "execution_count": 11,
   "id": "46f16089-b43b-457b-af35-2b19f0a99f38",
   "metadata": {},
   "outputs": [
    {
     "data": {
      "text/plain": [
       "'foorabbazmilb'"
      ]
     },
     "execution_count": 11,
     "metadata": {},
     "output_type": "execute_result"
    }
   ],
   "source": [
    "inputString = \"foo(bar)baz(blim)\"\n",
    "solution(inputString)"
   ]
  },
  {
   "cell_type": "code",
   "execution_count": 13,
   "id": "2c5ba304-bd23-4252-9183-01bb38de9fe4",
   "metadata": {},
   "outputs": [
    {
     "data": {
      "text/plain": [
       "'foobazrabblim'"
      ]
     },
     "execution_count": 13,
     "metadata": {},
     "output_type": "execute_result"
    }
   ],
   "source": [
    "inputString = \"foo(bar(baz))blim\"\n",
    "solution(inputString)"
   ]
  }
 ],
 "metadata": {
  "kernelspec": {
   "display_name": "Python 3 (ipykernel)",
   "language": "python",
   "name": "python3"
  },
  "language_info": {
   "codemirror_mode": {
    "name": "ipython",
    "version": 3
   },
   "file_extension": ".py",
   "mimetype": "text/x-python",
   "name": "python",
   "nbconvert_exporter": "python",
   "pygments_lexer": "ipython3",
   "version": "3.12.4"
  }
 },
 "nbformat": 4,
 "nbformat_minor": 5
}
