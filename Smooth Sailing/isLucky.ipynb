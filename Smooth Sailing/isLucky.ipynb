{
 "cells": [
  {
   "cell_type": "markdown",
   "id": "572004aa-3acf-4cec-941a-fe6ceed1ef87",
   "metadata": {},
   "source": [
    "**isLucky**\n",
    "\n",
    "Ticket numbers usually consist of an even number of digits. A ticket number is considered lucky if the sum of the first half of the digits is equal to the sum of the second half.\r\n",
    "\r\n",
    "Given a ticket number n, determine if it's lucky or no = false. = false."
   ]
  },
  {
   "cell_type": "markdown",
   "id": "bc6ab8bd-c647-4978-a5a1-f0633e903bc6",
   "metadata": {},
   "source": [
    "**Example**\n",
    "\n",
    "For n = 1230, the output should be solution(n) = true;\n",
    "For n = 239017, the output should be solution(n) = false."
   ]
  },
  {
   "cell_type": "markdown",
   "id": "ad36162a-da8c-43a5-97f1-6f3db34c551c",
   "metadata": {},
   "source": [
    "**Solution:**"
   ]
  },
  {
   "cell_type": "code",
   "execution_count": 15,
   "id": "72233c3a-1f2f-4ab5-830b-fcf1892d7916",
   "metadata": {},
   "outputs": [],
   "source": [
    "def solution(n):\n",
    "    n1 = 0\n",
    "    n2 = 0\n",
    "    a = list(str(n))\n",
    "    b = int(len(a)/2)\n",
    "    for i in range(b):\n",
    "        n1 += int(a[i])\n",
    "        n2 += int(a[i+b])\n",
    "    return n1 == n2 "
   ]
  },
  {
   "cell_type": "code",
   "execution_count": 17,
   "id": "1977add0-fd12-4815-807d-1f2c993a800c",
   "metadata": {},
   "outputs": [
    {
     "data": {
      "text/plain": [
       "True"
      ]
     },
     "execution_count": 17,
     "metadata": {},
     "output_type": "execute_result"
    }
   ],
   "source": [
    "solution(1230)"
   ]
  },
  {
   "cell_type": "code",
   "execution_count": 19,
   "id": "01db9fae-c172-4b34-bf27-b118e55d7d4f",
   "metadata": {},
   "outputs": [
    {
     "data": {
      "text/plain": [
       "False"
      ]
     },
     "execution_count": 19,
     "metadata": {},
     "output_type": "execute_result"
    }
   ],
   "source": [
    "solution(239017)"
   ]
  }
 ],
 "metadata": {
  "kernelspec": {
   "display_name": "Python 3 (ipykernel)",
   "language": "python",
   "name": "python3"
  },
  "language_info": {
   "codemirror_mode": {
    "name": "ipython",
    "version": 3
   },
   "file_extension": ".py",
   "mimetype": "text/x-python",
   "name": "python",
   "nbconvert_exporter": "python",
   "pygments_lexer": "ipython3",
   "version": "3.12.4"
  }
 },
 "nbformat": 4,
 "nbformat_minor": 5
}
