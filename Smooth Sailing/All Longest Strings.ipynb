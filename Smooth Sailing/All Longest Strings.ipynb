{
 "cells": [
  {
   "cell_type": "markdown",
   "id": "400c65b4-ea8f-429e-875c-fa2fc7e27051",
   "metadata": {},
   "source": [
    "**All Longest Strings**\n",
    "\n",
    "GGiven an array of strings, return another array containing all of its longest strings.\n",
    "\n",
    "**Example**\n",
    "\n",
    "For inputArray = [\"aba\", \"aa\", \"ad\", \"vcd\", \"aba\"], the output should be solution(inputArray) = [\"aba\", \"vcd\", \"aba\"]."
   ]
  },
  {
   "cell_type": "markdown",
   "id": "69eab3fa-79ca-4042-94a7-d2e8a8ef5df7",
   "metadata": {},
   "source": [
    "**Solution:**"
   ]
  },
  {
   "cell_type": "code",
   "execution_count": 3,
   "id": "ddabb456-4f2f-4073-b56b-cf28d8dfede3",
   "metadata": {},
   "outputs": [],
   "source": [
    "def solution(inputArray):\n",
    "    arr = []\n",
    "    l = len(inputArray[0])\n",
    "    for i in range(1,len(inputArray)):\n",
    "        if len(inputArray[i]) > l:\n",
    "            l = len(inputArray[i])\n",
    "    for j in inputArray:\n",
    "        if len(j) == l:\n",
    "            arr.append(j)\n",
    "    return arr"
   ]
  },
  {
   "cell_type": "code",
   "execution_count": 5,
   "id": "fbec79b6-4002-4bff-9b75-c58d2d5b107f",
   "metadata": {},
   "outputs": [
    {
     "data": {
      "text/plain": [
       "['aba', 'vcd', 'aba']"
      ]
     },
     "execution_count": 5,
     "metadata": {},
     "output_type": "execute_result"
    }
   ],
   "source": [
    "solution([\"aba\", \"aa\", \"ad\", \"vcd\", \"aba\"])"
   ]
  }
 ],
 "metadata": {
  "kernelspec": {
   "display_name": "Python 3 (ipykernel)",
   "language": "python",
   "name": "python3"
  },
  "language_info": {
   "codemirror_mode": {
    "name": "ipython",
    "version": 3
   },
   "file_extension": ".py",
   "mimetype": "text/x-python",
   "name": "python",
   "nbconvert_exporter": "python",
   "pygments_lexer": "ipython3",
   "version": "3.12.4"
  }
 },
 "nbformat": 4,
 "nbformat_minor": 5
}
