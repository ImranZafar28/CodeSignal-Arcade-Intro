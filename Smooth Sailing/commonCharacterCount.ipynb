{
 "cells": [
  {
   "cell_type": "markdown",
   "id": "2cb789c3-3a64-49e6-9ff1-ce8d105f8438",
   "metadata": {},
   "source": [
    "**commonCharacterCount**\n",
    "\n",
    "Given two strings, find the number of common characters between them.\n",
    "\n",
    "**Example**\n",
    "\n",
    "For s1 = \"aabcc\" and s2 = \"adcaa\", the output should be solution(s1, s2) = 3.\n",
    "\n",
    "Strings have 3 common characters - 2 \"a\"s and 1 \"c\"."
   ]
  },
  {
   "cell_type": "markdown",
   "id": "6ab99b63-e62b-4908-b058-091dc48b1fe8",
   "metadata": {},
   "source": [
    "**Solution:**"
   ]
  },
  {
   "cell_type": "code",
   "execution_count": 3,
   "id": "d74c122a-65c3-46b5-b66a-4f05eb40e5c1",
   "metadata": {},
   "outputs": [],
   "source": [
    "def solution(s1, s2):\n",
    "    a = 0\n",
    "    s4 = list(s2)\n",
    "    for i in s1:\n",
    "      for j in range(len(s4)):\n",
    "        if i == s4[j]:\n",
    "          a += 1\n",
    "          s4.pop(j)\n",
    "          s4.insert(j,0)\n",
    "          break\n",
    "    return a"
   ]
  },
  {
   "cell_type": "code",
   "execution_count": 9,
   "id": "8b2ee3f4-c3a3-45e4-9d7d-2e5a60c0d8cf",
   "metadata": {},
   "outputs": [
    {
     "data": {
      "text/plain": [
       "3"
      ]
     },
     "execution_count": 9,
     "metadata": {},
     "output_type": "execute_result"
    }
   ],
   "source": [
    "s1 = \"aabcc\"\n",
    "s2 = \"adcaa\"\n",
    "solution(s1, s2)"
   ]
  }
 ],
 "metadata": {
  "kernelspec": {
   "display_name": "Python 3 (ipykernel)",
   "language": "python",
   "name": "python3"
  },
  "language_info": {
   "codemirror_mode": {
    "name": "ipython",
    "version": 3
   },
   "file_extension": ".py",
   "mimetype": "text/x-python",
   "name": "python",
   "nbconvert_exporter": "python",
   "pygments_lexer": "ipython3",
   "version": "3.12.4"
  }
 },
 "nbformat": 4,
 "nbformat_minor": 5
}
