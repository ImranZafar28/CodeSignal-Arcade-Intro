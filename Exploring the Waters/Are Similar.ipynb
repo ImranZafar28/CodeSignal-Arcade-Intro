{
 "cells": [
  {
   "cell_type": "markdown",
   "id": "3acfd1a1-f1e7-4a15-bcd9-dd3707603f1b",
   "metadata": {},
   "source": [
    "**Are Similar?**\n",
    "\n",
    "Two arrays are called similar if one can be obtained from another by swapping at most one pair of elements in one of the arrays.\r\n",
    "\r\n",
    "Given two arrays a and b, check whether they are similar."
   ]
  },
  {
   "cell_type": "markdown",
   "id": "01dfc446-8ece-4608-ba9d-5da529954eb9",
   "metadata": {},
   "source": [
    "**Example**\n",
    "\n",
    "For a = [1, 2, 3] and b = [1, 2, 3], the output should be solution(a, b) = true.\n",
    "\n",
    "The arrays are equal, no need to swap any elements.\n",
    "\n",
    "For a = [1, 2, 3] and b = [2, 1, 3], the output should be solution(a, b) = true.\n",
    "\n",
    "We can obtain b from a by swapping 2 and 1 in b.\n",
    "\n",
    "For a = [1, 2, 2] and b = [2, 1, 1], the output should be solution(a, b) = false.\n",
    "\n",
    "Any swap of any two elements either in a or in b won't make a and b equal."
   ]
  },
  {
   "cell_type": "markdown",
   "id": "619f30ed-d25a-4449-a964-c81956a93a2a",
   "metadata": {},
   "source": [
    "**Solution:**"
   ]
  },
  {
   "cell_type": "code",
   "execution_count": 6,
   "id": "25267be1-da39-4879-9bf9-e071715d34a6",
   "metadata": {},
   "outputs": [],
   "source": [
    "def solution(a, b):\n",
    "    count = 0\n",
    "    x = []\n",
    "    y = []\n",
    "    for i in range(len(a)):\n",
    "        if a[i] != b[i]:\n",
    "            count += 1\n",
    "            x.append(a[i])\n",
    "            y.append(b[i])\n",
    "    if count == 0:\n",
    "        return True\n",
    "    elif count == 2:\n",
    "        return set(x) == set(y)\n",
    "    else:\n",
    "        return False"
   ]
  },
  {
   "cell_type": "code",
   "execution_count": 8,
   "id": "23b89364-eadf-46d1-a0a4-0ff87e8d5d94",
   "metadata": {},
   "outputs": [
    {
     "data": {
      "text/plain": [
       "True"
      ]
     },
     "execution_count": 8,
     "metadata": {},
     "output_type": "execute_result"
    }
   ],
   "source": [
    "a = [1, 2, 3]\n",
    "b = [1, 2, 3]\n",
    "solution(a, b)"
   ]
  },
  {
   "cell_type": "code",
   "execution_count": 10,
   "id": "b38db4fa-be95-4632-a910-74953d389e2b",
   "metadata": {},
   "outputs": [
    {
     "data": {
      "text/plain": [
       "True"
      ]
     },
     "execution_count": 10,
     "metadata": {},
     "output_type": "execute_result"
    }
   ],
   "source": [
    "a = [1, 2, 3]\n",
    "b = [2, 1, 3]\n",
    "solution(a, b)"
   ]
  },
  {
   "cell_type": "code",
   "execution_count": 12,
   "id": "0a21697a-c3fc-40fb-bb98-d12645c02d3d",
   "metadata": {},
   "outputs": [
    {
     "data": {
      "text/plain": [
       "False"
      ]
     },
     "execution_count": 12,
     "metadata": {},
     "output_type": "execute_result"
    }
   ],
   "source": [
    "a = [1, 2, 2]\n",
    "b = [2, 1, 1]\n",
    "solution(a, b)"
   ]
  }
 ],
 "metadata": {
  "kernelspec": {
   "display_name": "Python 3 (ipykernel)",
   "language": "python",
   "name": "python3"
  },
  "language_info": {
   "codemirror_mode": {
    "name": "ipython",
    "version": 3
   },
   "file_extension": ".py",
   "mimetype": "text/x-python",
   "name": "python",
   "nbconvert_exporter": "python",
   "pygments_lexer": "ipython3",
   "version": "3.12.4"
  }
 },
 "nbformat": 4,
 "nbformat_minor": 5
}
