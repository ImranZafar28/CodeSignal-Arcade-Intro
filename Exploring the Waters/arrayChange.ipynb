{
 "cells": [
  {
   "cell_type": "markdown",
   "id": "7785eed4-4131-4266-aa63-85ecb096efe2",
   "metadata": {},
   "source": [
    "**arrayChange**\n",
    "\n",
    "You are given an array of integers. On each move you are allowed to increase exactly one of its element by one. Find the minimal number of moves required to obtain a strictly increasing sequence from the input."
   ]
  },
  {
   "cell_type": "markdown",
   "id": "bd935921-8a1b-4db6-ae7e-0c594158ea95",
   "metadata": {},
   "source": [
    "**Example**\n",
    "\n",
    "For inputArray = [1, 1, 1], the output should be solution(inputArray) = 3."
   ]
  },
  {
   "cell_type": "markdown",
   "id": "e62ffcf5-e1ad-4d2f-a679-bd790cae6841",
   "metadata": {},
   "source": [
    "**Solution:**"
   ]
  },
  {
   "cell_type": "code",
   "execution_count": 9,
   "id": "fc743c98-4ba0-4c97-bd8d-e56839a40658",
   "metadata": {},
   "outputs": [],
   "source": [
    "def solution(inputArray):\n",
    "    moves = 0\n",
    "    for i in range(len(inputArray)-1):\n",
    "        if inputArray[i] >= inputArray[i+1]:\n",
    "            a = inputArray[i] - inputArray[i+1] + 1\n",
    "            moves += a\n",
    "            inputArray[i+1] += a\n",
    "    return moves"
   ]
  },
  {
   "cell_type": "code",
   "execution_count": 11,
   "id": "8502f8be-53ce-4b17-a823-03ad9eb9a209",
   "metadata": {},
   "outputs": [
    {
     "data": {
      "text/plain": [
       "3"
      ]
     },
     "execution_count": 11,
     "metadata": {},
     "output_type": "execute_result"
    }
   ],
   "source": [
    "inputArray = [1, 1, 1]\n",
    "solution(inputArray)"
   ]
  }
 ],
 "metadata": {
  "kernelspec": {
   "display_name": "Python 3 (ipykernel)",
   "language": "python",
   "name": "python3"
  },
  "language_info": {
   "codemirror_mode": {
    "name": "ipython",
    "version": 3
   },
   "file_extension": ".py",
   "mimetype": "text/x-python",
   "name": "python",
   "nbconvert_exporter": "python",
   "pygments_lexer": "ipython3",
   "version": "3.12.4"
  }
 },
 "nbformat": 4,
 "nbformat_minor": 5
}
