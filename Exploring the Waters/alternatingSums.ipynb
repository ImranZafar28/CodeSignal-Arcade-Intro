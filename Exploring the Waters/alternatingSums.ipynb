{
 "cells": [
  {
   "cell_type": "markdown",
   "id": "bcb42b39-557c-49b3-83c3-9c1b8e9a3277",
   "metadata": {},
   "source": [
    "**alternatingSums**\n",
    "\n",
    "Several people are standing in a row and need to be divided into two teams. The first person goes into team 1, the second goes into team 2, the third goes into team 1 again, the fourth into team 2, and so on.\r\n",
    "\r\n",
    "You are given an array of positive integers - the weights of the people. Return an array of two integers, where the first element is the total weight of team 1, and the second element is the total weight of team 2 after the division is complete."
   ]
  },
  {
   "cell_type": "markdown",
   "id": "b2c0ef43-e92e-4b06-8bdf-6cf75966e255",
   "metadata": {},
   "source": [
    "**Example**\n",
    "\n",
    "For a = [50, 60, 60, 45, 70], the output should be solution(a) = [180, 105]."
   ]
  },
  {
   "cell_type": "markdown",
   "id": "27385a23-217e-4caf-b346-9234fb8790b0",
   "metadata": {},
   "source": [
    "**Solution:**"
   ]
  },
  {
   "cell_type": "code",
   "execution_count": 4,
   "id": "20737d9a-9646-4b88-9c23-8daa26894ea1",
   "metadata": {},
   "outputs": [],
   "source": [
    "def solution(a):\n",
    "    team1 = 0\n",
    "    team2 = 0\n",
    "    for i in range(len(a)):\n",
    "        if i%2 == 0:\n",
    "            team1 += a[i]\n",
    "        else:\n",
    "            team2 += a[i]\n",
    "    return [team1, team2]"
   ]
  },
  {
   "cell_type": "code",
   "execution_count": 6,
   "id": "029395a9-e50b-498c-9fd0-dea9e48f4342",
   "metadata": {},
   "outputs": [
    {
     "data": {
      "text/plain": [
       "[180, 105]"
      ]
     },
     "execution_count": 6,
     "metadata": {},
     "output_type": "execute_result"
    }
   ],
   "source": [
    "a = [50, 60, 60, 45, 70]\n",
    "solution(a)"
   ]
  }
 ],
 "metadata": {
  "kernelspec": {
   "display_name": "Python 3 (ipykernel)",
   "language": "python",
   "name": "python3"
  },
  "language_info": {
   "codemirror_mode": {
    "name": "ipython",
    "version": 3
   },
   "file_extension": ".py",
   "mimetype": "text/x-python",
   "name": "python",
   "nbconvert_exporter": "python",
   "pygments_lexer": "ipython3",
   "version": "3.12.4"
  }
 },
 "nbformat": 4,
 "nbformat_minor": 5
}
