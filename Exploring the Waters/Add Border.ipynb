{
 "cells": [
  {
   "cell_type": "markdown",
   "id": "d994249e-9507-424b-b02f-7399a43350be",
   "metadata": {},
   "source": [
    "**Add Border**\n",
    "\n",
    "Given a rectangular matrix of characters, add a border of asterisks(*) to it."
   ]
  },
  {
   "cell_type": "markdown",
   "id": "87afa45c-ff4c-427c-9056-fd67aed7104e",
   "metadata": {},
   "source": [
    "**Example**"
   ]
  },
  {
   "cell_type": "raw",
   "id": "094485ef-c12c-472e-a0da-bbd54b8453db",
   "metadata": {},
   "source": [
    "For picture = [\"abc\",\n",
    "               \"ded\"]\n",
    "\n",
    "the output should be\n",
    "\n",
    "solution(picture) = [\"*****\",\n",
    "                     \"*abc*\",\n",
    "                     \"*ded*\",\n",
    "                     \"*****\"]"
   ]
  },
  {
   "cell_type": "markdown",
   "id": "747c8a40-6ec7-4593-b30c-38b1765a9114",
   "metadata": {},
   "source": [
    "**Solution:**"
   ]
  },
  {
   "cell_type": "code",
   "execution_count": 6,
   "id": "c014c3e2-3a7e-4a73-9a5e-eb03b8dcf7f0",
   "metadata": {},
   "outputs": [],
   "source": [
    "def solution(picture):\n",
    "    a = '*' * (len(picture[0]) + 2)\n",
    "    for i in range(len(picture)):\n",
    "        picture[i] = '*' + picture[i] + '*'\n",
    "    picture.insert(0,a)\n",
    "    picture.append(a)\n",
    "    return picture"
   ]
  },
  {
   "cell_type": "code",
   "execution_count": 8,
   "id": "dc5a006b-88ee-4491-98ee-57131b984fb2",
   "metadata": {},
   "outputs": [
    {
     "data": {
      "text/plain": [
       "['*****', '*abc*', '*ded*', '*****']"
      ]
     },
     "execution_count": 8,
     "metadata": {},
     "output_type": "execute_result"
    }
   ],
   "source": [
    "picture = [\"abc\",\n",
    "           \"ded\"]\n",
    "solution(picture)"
   ]
  }
 ],
 "metadata": {
  "kernelspec": {
   "display_name": "Python 3 (ipykernel)",
   "language": "python",
   "name": "python3"
  },
  "language_info": {
   "codemirror_mode": {
    "name": "ipython",
    "version": 3
   },
   "file_extension": ".py",
   "mimetype": "text/x-python",
   "name": "python",
   "nbconvert_exporter": "python",
   "pygments_lexer": "ipython3",
   "version": "3.12.4"
  }
 },
 "nbformat": 4,
 "nbformat_minor": 5
}
