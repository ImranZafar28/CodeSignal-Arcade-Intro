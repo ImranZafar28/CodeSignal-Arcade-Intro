{
 "cells": [
  {
   "cell_type": "markdown",
   "id": "0648e639-6a52-4a33-a6a5-28f03b8b4f0c",
   "metadata": {},
   "source": [
    "**palindromeRearranging**\n",
    "\n",
    "Given a string, find out if its characters can be rearranged to form a palindrome."
   ]
  },
  {
   "cell_type": "markdown",
   "id": "764af95a-b8d6-4661-995d-37d91cb1dd88",
   "metadata": {},
   "source": [
    "**Example**\n",
    "\n",
    "For inputString = \"aabb\", the output should be solution(inputString) = true.\n",
    "\n",
    "We can rearrange \"aabb\" to make \"abba\", which is a palindrome."
   ]
  },
  {
   "cell_type": "markdown",
   "id": "d1b1726e-d871-47a3-98e2-4bdfef99b327",
   "metadata": {},
   "source": [
    "**Solution 1:**"
   ]
  },
  {
   "cell_type": "code",
   "execution_count": 9,
   "id": "d0ac3e35-4979-451f-a1ef-7d517a81226f",
   "metadata": {},
   "outputs": [],
   "source": [
    "def solution(inputString):\n",
    "    new = [] # a b c\n",
    "    for i in inputString:\n",
    "        if i not in new:\n",
    "            new.append(i)\n",
    "    count = [0 for x in range(len(new))] # [0,0,0]\n",
    "    for i in range(len(new)):\n",
    "        for j in inputString:\n",
    "            if new[i] == j:\n",
    "                count[i] += 1\n",
    "    \n",
    "    odd = 0\n",
    "    for x in count:\n",
    "        if x%2 != 0:\n",
    "            odd += 1\n",
    "        if odd > 1:\n",
    "            return False\n",
    "    return True"
   ]
  },
  {
   "cell_type": "code",
   "execution_count": 11,
   "id": "ba208b1f-d844-4260-a92a-713043c1d0c6",
   "metadata": {},
   "outputs": [
    {
     "data": {
      "text/plain": [
       "True"
      ]
     },
     "execution_count": 11,
     "metadata": {},
     "output_type": "execute_result"
    }
   ],
   "source": [
    "inputString = \"aabb\"\n",
    "solution(inputString)"
   ]
  },
  {
   "cell_type": "markdown",
   "id": "b86b713b-02b9-456e-9826-f396c2cbd4b8",
   "metadata": {},
   "source": [
    "**Solution 2:**"
   ]
  },
  {
   "cell_type": "code",
   "execution_count": 14,
   "id": "af580773-aea6-42d4-b032-6ead92ebeabe",
   "metadata": {},
   "outputs": [],
   "source": [
    "def solution(inputString):\n",
    "    count_arr = [0 for x in range(26)]\n",
    "    for i in range(len(inputString)):\n",
    "        count_arr[ord(inputString[i])-97] = count_arr[ord(inputString[i])-97] + 1\n",
    "    \n",
    "    odd = 0\n",
    "    for j in count_arr:\n",
    "        if j%2 != 0:\n",
    "            odd += 1\n",
    "        if odd > 1:\n",
    "            return False\n",
    "    return True"
   ]
  },
  {
   "cell_type": "code",
   "execution_count": 16,
   "id": "86faabca-26af-4b69-8390-7c4b11e7c9f8",
   "metadata": {},
   "outputs": [
    {
     "data": {
      "text/plain": [
       "True"
      ]
     },
     "execution_count": 16,
     "metadata": {},
     "output_type": "execute_result"
    }
   ],
   "source": [
    "inputString = \"aabb\"\n",
    "solution(inputString)"
   ]
  }
 ],
 "metadata": {
  "kernelspec": {
   "display_name": "Python 3 (ipykernel)",
   "language": "python",
   "name": "python3"
  },
  "language_info": {
   "codemirror_mode": {
    "name": "ipython",
    "version": 3
   },
   "file_extension": ".py",
   "mimetype": "text/x-python",
   "name": "python",
   "nbconvert_exporter": "python",
   "pygments_lexer": "ipython3",
   "version": "3.12.4"
  }
 },
 "nbformat": 4,
 "nbformat_minor": 5
}
