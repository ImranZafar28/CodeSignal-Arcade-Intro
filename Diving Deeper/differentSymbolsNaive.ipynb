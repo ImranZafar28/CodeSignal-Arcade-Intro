{
 "cells": [
  {
   "cell_type": "markdown",
   "id": "75082820",
   "metadata": {},
   "source": [
    "**differentSymbolsNaive**\n",
    "\n",
    "Given a string, find the number of different characters in it.\n",
    "\n",
    "**Example**\n",
    "\n",
    "For s = \"cabca\", the output should be solution(s) = 3.\n",
    "\n",
    "There are 3 different characters a, b and c.\n",
    "\n",
    "**Solution:**"
   ]
  },
  {
   "cell_type": "code",
   "execution_count": 1,
   "id": "fd48281b",
   "metadata": {},
   "outputs": [],
   "source": [
    "def solution(s):\n",
    "    d = []\n",
    "    count = 0\n",
    "    for i in s:\n",
    "        if i not in d:\n",
    "            d.append(i)\n",
    "            count += 1\n",
    "    return count"
   ]
  },
  {
   "cell_type": "code",
   "execution_count": 2,
   "id": "eb8bbc84",
   "metadata": {},
   "outputs": [
    {
     "data": {
      "text/plain": [
       "3"
      ]
     },
     "execution_count": 2,
     "metadata": {},
     "output_type": "execute_result"
    }
   ],
   "source": [
    "solution(\"cabca\")"
   ]
  }
 ],
 "metadata": {
  "kernelspec": {
   "display_name": "Python 3 (ipykernel)",
   "language": "python",
   "name": "python3"
  },
  "language_info": {
   "codemirror_mode": {
    "name": "ipython",
    "version": 3
   },
   "file_extension": ".py",
   "mimetype": "text/x-python",
   "name": "python",
   "nbconvert_exporter": "python",
   "pygments_lexer": "ipython3",
   "version": "3.9.12"
  }
 },
 "nbformat": 4,
 "nbformat_minor": 5
}
