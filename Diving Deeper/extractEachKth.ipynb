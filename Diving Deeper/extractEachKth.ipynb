{
 "cells": [
  {
   "cell_type": "markdown",
   "id": "cc73ad4c",
   "metadata": {},
   "source": [
    "**extractEachKt**\n",
    "\n",
    "Given array of integers, remove each kth element from it.\n",
    "\n",
    "**Example**\n",
    "\n",
    "For inputArray = [1, 2, 3, 4, 5, 6, 7, 8, 9, 10] and k = 3,\n",
    "\n",
    "the output should be solution(inputArray, k) = [1, 2, 4, 5, 7, 8, 10]."
   ]
  },
  {
   "cell_type": "markdown",
   "id": "ecd30407",
   "metadata": {},
   "source": [
    "**Solution:**"
   ]
  },
  {
   "cell_type": "code",
   "execution_count": 1,
   "id": "8ac599a6",
   "metadata": {},
   "outputs": [],
   "source": [
    "def solution(inputArray, k):\n",
    "    for i in range(k-1, len(inputArray), k):\n",
    "        del inputArray[i]\n",
    "        inputArray.insert(i, 'del')\n",
    "    new = [x for x in inputArray if x != 'del']\n",
    "    return new"
   ]
  },
  {
   "cell_type": "code",
   "execution_count": 3,
   "id": "2f6c4773",
   "metadata": {},
   "outputs": [
    {
     "data": {
      "text/plain": [
       "[1, 2, 4, 5, 7, 8, 10]"
      ]
     },
     "execution_count": 3,
     "metadata": {},
     "output_type": "execute_result"
    }
   ],
   "source": [
    "solution([1, 2, 3, 4, 5, 6, 7, 8, 9, 10], 3)"
   ]
  }
 ],
 "metadata": {
  "kernelspec": {
   "display_name": "Python 3 (ipykernel)",
   "language": "python",
   "name": "python3"
  },
  "language_info": {
   "codemirror_mode": {
    "name": "ipython",
    "version": 3
   },
   "file_extension": ".py",
   "mimetype": "text/x-python",
   "name": "python",
   "nbconvert_exporter": "python",
   "pygments_lexer": "ipython3",
   "version": "3.9.12"
  }
 },
 "nbformat": 4,
 "nbformat_minor": 5
}
