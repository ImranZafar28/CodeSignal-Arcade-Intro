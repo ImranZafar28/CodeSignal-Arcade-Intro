{
 "cells": [
  {
   "cell_type": "markdown",
   "id": "30bb33cb",
   "metadata": {},
   "source": [
    "**firstDigit**\n",
    "\n",
    "Find the leftmost digit that occurs in a given string.\n",
    "\n",
    "**Example**\n",
    "\n",
    "For inputString = \"var_1__Int\", the output should be solution(inputString) = '1';\n",
    "\n",
    "For inputString = \"q2q-q\", the output should be solution(inputString) = '2';\n",
    "\n",
    "For inputString = \"0ss\", the output should be solution(inputString) = '0'.\n",
    "\n",
    "**Solution:**"
   ]
  },
  {
   "cell_type": "code",
   "execution_count": 1,
   "id": "2bfbebcd",
   "metadata": {},
   "outputs": [],
   "source": [
    "def solution(inputString):\n",
    "    import string\n",
    "    d = string.digits\n",
    "    for i in inputString:\n",
    "        if i in d:\n",
    "            return i"
   ]
  },
  {
   "cell_type": "code",
   "execution_count": 2,
   "id": "ac862f69",
   "metadata": {},
   "outputs": [
    {
     "data": {
      "text/plain": [
       "'1'"
      ]
     },
     "execution_count": 2,
     "metadata": {},
     "output_type": "execute_result"
    }
   ],
   "source": [
    "inputString = \"var_1__Int\"\n",
    "solution(inputString)"
   ]
  },
  {
   "cell_type": "code",
   "execution_count": 3,
   "id": "f2b0706a",
   "metadata": {},
   "outputs": [
    {
     "data": {
      "text/plain": [
       "'2'"
      ]
     },
     "execution_count": 3,
     "metadata": {},
     "output_type": "execute_result"
    }
   ],
   "source": [
    "inputString = \"q2q-q\"\n",
    "solution(inputString)"
   ]
  },
  {
   "cell_type": "code",
   "execution_count": 4,
   "id": "17a1611d",
   "metadata": {},
   "outputs": [
    {
     "data": {
      "text/plain": [
       "'0'"
      ]
     },
     "execution_count": 4,
     "metadata": {},
     "output_type": "execute_result"
    }
   ],
   "source": [
    "inputString = \"0ss\"\n",
    "solution(inputString)"
   ]
  }
 ],
 "metadata": {
  "kernelspec": {
   "display_name": "Python 3 (ipykernel)",
   "language": "python",
   "name": "python3"
  },
  "language_info": {
   "codemirror_mode": {
    "name": "ipython",
    "version": 3
   },
   "file_extension": ".py",
   "mimetype": "text/x-python",
   "name": "python",
   "nbconvert_exporter": "python",
   "pygments_lexer": "ipython3",
   "version": "3.9.12"
  }
 },
 "nbformat": 4,
 "nbformat_minor": 5
}
