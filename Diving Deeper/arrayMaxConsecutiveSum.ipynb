{
 "cells": [
  {
   "cell_type": "markdown",
   "id": "30d778bd",
   "metadata": {},
   "source": [
    "**arrayMaxConsecutiveSum**\n",
    "\n",
    "Given array of integers, find the maximal possible sum of some of its k consecutive elements.\n",
    "\n",
    "**Example**\n",
    "\n",
    "For inputArray = [2, 3, 5, 1, 6] and k = 2, the output should be solution(inputArray, k) = 8.\n",
    "\n",
    "All possible sums of 2 consecutive elements are:\n",
    "\n",
    "    2 + 3 = 5;\n",
    "    3 + 5 = 8;\n",
    "    5 + 1 = 6;\n",
    "    1 + 6 = 7.\n",
    "\n",
    "Thus, the answer is 8.\n",
    "\n",
    "**Solution:**"
   ]
  },
  {
   "cell_type": "code",
   "execution_count": 1,
   "id": "d8bcd2c9",
   "metadata": {},
   "outputs": [],
   "source": [
    "def solution(inputArray, k):\n",
    "    piece = inputArray[:k]\n",
    "    result = []\n",
    "    sums = sum(piece)\n",
    "    result.append(sums)\n",
    "    for i in range(k, len(inputArray)):\n",
    "        piece.append(inputArray[i])\n",
    "        sums += piece[-1] - piece[0]\n",
    "        result.append(sums)\n",
    "        piece.pop(0)\n",
    "    return max(result)"
   ]
  },
  {
   "cell_type": "code",
   "execution_count": 2,
   "id": "0d8f2b2f",
   "metadata": {},
   "outputs": [
    {
     "data": {
      "text/plain": [
       "8"
      ]
     },
     "execution_count": 2,
     "metadata": {},
     "output_type": "execute_result"
    }
   ],
   "source": [
    "inputArray = [2, 3, 5, 1, 6]\n",
    "k = 2\n",
    "solution(inputArray, k)"
   ]
  }
 ],
 "metadata": {
  "kernelspec": {
   "display_name": "Python 3 (ipykernel)",
   "language": "python",
   "name": "python3"
  },
  "language_info": {
   "codemirror_mode": {
    "name": "ipython",
    "version": 3
   },
   "file_extension": ".py",
   "mimetype": "text/x-python",
   "name": "python",
   "nbconvert_exporter": "python",
   "pygments_lexer": "ipython3",
   "version": "3.9.12"
  }
 },
 "nbformat": 4,
 "nbformat_minor": 5
}
