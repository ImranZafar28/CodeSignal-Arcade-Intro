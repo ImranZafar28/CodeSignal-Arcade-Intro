{
 "cells": [
  {
   "cell_type": "markdown",
   "id": "883be777-6dc7-44f1-861e-d8e8e2ae4750",
   "metadata": {},
   "source": [
    "**shapeArea**\n",
    "\n",
    "Below we will define an n-interesting polygon. Your task is to find the area of a polygon for a given n.\n",
    "\n",
    "A 1-interesting polygon is just a square with a side of length 1. An n-interesting polygon is obtained by taking the n - 1-interesting polygon and appending 1-interesting polygons to its rim, side by side. You can see the 1-, 2-, 3- and 4-interesting polygons in the picture below.\n",
    "\n",
    "**Example**\r\n",
    "\r\n",
    "For n = 2, the output should  e\r\n",
    "solution(n) = 5;\r\n",
    "For n = 3, the output shoul  be\r\n",
    "solution(n) = 13."
   ]
  },
  {
   "cell_type": "markdown",
   "id": "a4f38a43-924b-48e5-ac38-78bd810ca781",
   "metadata": {},
   "source": [
    "**Solution:**"
   ]
  },
  {
   "cell_type": "code",
   "execution_count": 16,
   "id": "782437c1-e30c-4c8d-b2a7-1e406bf07db8",
   "metadata": {},
   "outputs": [],
   "source": [
    "def solution(n):\n",
    "    r = 0\n",
    "    for i in range(n):\n",
    "        r += (i*4)\n",
    "    r += 1\n",
    "    return r"
   ]
  },
  {
   "cell_type": "code",
   "execution_count": 18,
   "id": "4a9fdcfa-be9e-49ea-9f0d-8a7969ae1b5d",
   "metadata": {},
   "outputs": [
    {
     "data": {
      "text/plain": [
       "5"
      ]
     },
     "execution_count": 18,
     "metadata": {},
     "output_type": "execute_result"
    }
   ],
   "source": [
    "solution(2)"
   ]
  },
  {
   "cell_type": "code",
   "execution_count": 20,
   "id": "6635efe3-674e-4d6a-8390-8b5837b6bd81",
   "metadata": {},
   "outputs": [
    {
     "data": {
      "text/plain": [
       "13"
      ]
     },
     "execution_count": 20,
     "metadata": {},
     "output_type": "execute_result"
    }
   ],
   "source": [
    "solution(3)"
   ]
  }
 ],
 "metadata": {
  "kernelspec": {
   "display_name": "Python 3 (ipykernel)",
   "language": "python",
   "name": "python3"
  },
  "language_info": {
   "codemirror_mode": {
    "name": "ipython",
    "version": 3
   },
   "file_extension": ".py",
   "mimetype": "text/x-python",
   "name": "python",
   "nbconvert_exporter": "python",
   "pygments_lexer": "ipython3",
   "version": "3.12.4"
  }
 },
 "nbformat": 4,
 "nbformat_minor": 5
}
