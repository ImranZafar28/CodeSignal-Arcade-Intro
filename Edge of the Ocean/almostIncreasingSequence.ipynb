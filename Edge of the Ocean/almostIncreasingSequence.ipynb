{
 "cells": [
  {
   "cell_type": "markdown",
   "id": "f53d28c9-57ba-48a9-b9dd-1616617a9506",
   "metadata": {},
   "source": [
    "**almostIncreasingSequence**\n",
    "\n",
    "Given a sequence of integers as an array, determine whether it is possible to obtain a strictly increasing sequence by removing no more than one element from the array.\r\n",
    "\r\n",
    "Note: sequence a0, a1, ..., an is considered to be a strictly increasing if a0 < a1 < ... < an. Sequence containing only one element is also considered  o be strictly increasin\n",
    "\n",
    "**Example**\r\n",
    "\r\n",
    "For sequence = [1, 3, 2, 1], the output should  e\r\n",
    "solution(sequence) = false.\r\n",
    "\r\n",
    "There is no one element in this array that can be removed in order to get a strictly increasing sequence.\r\n",
    "\r\n",
    "For sequence = [1, 3, 2], the output sh uld be\r\n",
    "solution(sequence) = true.\r\n",
    "\r\n",
    "You can remove 3 from the array to get the strictly increasing sequence [1, 2]. Alternately, you can remove 2 to get the strictly increasing sequence [1, 3].g."
   ]
  },
  {
   "cell_type": "markdown",
   "id": "551c6c41-1263-4b35-8b0d-87ff5a57b68b",
   "metadata": {},
   "source": [
    "**Solution:**"
   ]
  },
  {
   "cell_type": "code",
   "execution_count": 3,
   "id": "b9179f7e-3203-4a57-aba1-40b2fec26d1f",
   "metadata": {},
   "outputs": [],
   "source": [
    "'''First I create a function to check sort'''\n",
    "\n",
    "def isSorted(mylist):\n",
    "  for i in range(len(mylist)-1):\n",
    "    if mylist[i] >= mylist[i+1]:\n",
    "      return False\n",
    "  return True"
   ]
  },
  {
   "cell_type": "code",
   "execution_count": 5,
   "id": "de987681-e900-440e-8372-f8452dc88734",
   "metadata": {},
   "outputs": [],
   "source": [
    "'''Now main function'''\n",
    "\n",
    "def solution(sequence):\n",
    "  for x in range(len(sequence)-1):\n",
    "    if sequence[x] >= sequence[x+1]:\n",
    "      a = sequence[x]\n",
    "      sequence.pop(x)\n",
    "      if isSorted(sequence):\n",
    "        return True\n",
    "      else:\n",
    "        sequence.insert(x,a)\n",
    "      a = sequence[x+1]\n",
    "      sequence.pop(x+1)\n",
    "      if isSorted(sequence):\n",
    "        return True\n",
    "      else:\n",
    "        sequence.insert(x+1,a)    \n",
    "  return False"
   ]
  },
  {
   "cell_type": "code",
   "execution_count": 7,
   "id": "cc5dea8e-d9e5-4471-9c2b-a314f5d090db",
   "metadata": {},
   "outputs": [
    {
     "data": {
      "text/plain": [
       "False"
      ]
     },
     "execution_count": 7,
     "metadata": {},
     "output_type": "execute_result"
    }
   ],
   "source": [
    "solution([1, 3, 2, 1])"
   ]
  },
  {
   "cell_type": "code",
   "execution_count": 9,
   "id": "a7e69fd1-3f90-48ac-a35e-8a858464e0c9",
   "metadata": {},
   "outputs": [
    {
     "data": {
      "text/plain": [
       "True"
      ]
     },
     "execution_count": 9,
     "metadata": {},
     "output_type": "execute_result"
    }
   ],
   "source": [
    "solution([1, 3, 2])"
   ]
  }
 ],
 "metadata": {
  "kernelspec": {
   "display_name": "Python 3 (ipykernel)",
   "language": "python",
   "name": "python3"
  },
  "language_info": {
   "codemirror_mode": {
    "name": "ipython",
    "version": 3
   },
   "file_extension": ".py",
   "mimetype": "text/x-python",
   "name": "python",
   "nbconvert_exporter": "python",
   "pygments_lexer": "ipython3",
   "version": "3.12.4"
  }
 },
 "nbformat": 4,
 "nbformat_minor": 5
}
