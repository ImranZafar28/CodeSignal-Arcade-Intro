{
 "cells": [
  {
   "cell_type": "markdown",
   "id": "e4dec926-02cb-479c-b2af-1c987b6872ed",
   "metadata": {},
   "source": [
    "**adjacentElementsProduct**\n",
    "\n",
    "  Given an array of integers, find the pair of adjacent elements that has the largest product and return that product.\n",
    "\n",
    "**Example**\n",
    "\n",
    "For inputArray = [3, 6, -2, -5, 7, 3], the output should be solution(inputArray) = 21.\n",
    "\n",
    "7 and 3 produce the largest product."
   ]
  },
  {
   "cell_type": "markdown",
   "id": "33d3a4c6-21b9-4459-beae-876a45d50d86",
   "metadata": {},
   "source": [
    "**Solution:**"
   ]
  },
  {
   "cell_type": "code",
   "execution_count": 3,
   "id": "9306b06d-46c2-426c-9db2-134a79970406",
   "metadata": {},
   "outputs": [],
   "source": [
    "def solution(inputArray):\n",
    "    a = inputArray[0] * inputArray[1]\n",
    "    for i in range(1,len(inputArray)-1):\n",
    "        b = int(inputArray[i] * inputArray[i+1])\n",
    "        a = b if b > a else a\n",
    "    return a"
   ]
  },
  {
   "cell_type": "code",
   "execution_count": 5,
   "id": "69d0ec43-0dc2-4e09-a860-9cdf923fde49",
   "metadata": {},
   "outputs": [
    {
     "data": {
      "text/plain": [
       "21"
      ]
     },
     "execution_count": 5,
     "metadata": {},
     "output_type": "execute_result"
    }
   ],
   "source": [
    "solution([3, 6, -2, -5, 7, 3])"
   ]
  }
 ],
 "metadata": {
  "kernelspec": {
   "display_name": "Python 3 (ipykernel)",
   "language": "python",
   "name": "python3"
  },
  "language_info": {
   "codemirror_mode": {
    "name": "ipython",
    "version": 3
   },
   "file_extension": ".py",
   "mimetype": "text/x-python",
   "name": "python",
   "nbconvert_exporter": "python",
   "pygments_lexer": "ipython3",
   "version": "3.12.4"
  }
 },
 "nbformat": 4,
 "nbformat_minor": 5
}
