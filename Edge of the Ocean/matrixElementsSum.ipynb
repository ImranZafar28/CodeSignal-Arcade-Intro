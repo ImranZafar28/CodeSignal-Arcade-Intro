{
 "cells": [
  {
   "cell_type": "markdown",
   "id": "c4c489e2-5d6f-459a-a85e-3fb9ea6a8868",
   "metadata": {},
   "source": [
    "**matrixElementsSum**\n",
    "\n",
    "\n",
    "After becoming famous, the CodeBots decided to move into a new building together. Each of the rooms has a different cost, and some of them are free, but there's a rumour that all the free rooms are haunted! Since the CodeBots are quite superstitious, they refuse to stay in any of the free rooms, or any of the rooms below any of the free rooms.\r\n",
    "\r\n",
    "Given matrix, a rectangular matrix of integers, where each value represents the cost of the room, your task is to return the total sum of all rooms that are suitable for the CodeBots (ie: add up all the values that don't appear below a wer is 1 + 1 + 1 + 5 + 1 = 9..ix) = 9."
   ]
  },
  {
   "cell_type": "markdown",
   "id": "6edfde21-d9ab-4460-b51f-6a64c4f6557a",
   "metadata": {},
   "source": [
    "**Example**\n",
    "\n",
    "For matrix = [[0, 1, 1, 2], \n",
    "          [0, 5, 0, 0], \n",
    "          [2, 0, 3, 3]]\n",
    "the output should be solution(matrix) = 9.\n",
    "\n",
    "There are several haunted rooms, so we'll disregard them as well as any rooms beneath them. Thus, the answer is 1 + 5 + 1 + 2 = 9.\n",
    "\n",
    "For matrix = [[1, 1, 1, 0], \n",
    "          [0, 5, 0, 1], \n",
    "          [2, 1, 3, 10]]\n",
    "the output should be solution(matrix) = 9.\n",
    "\n",
    "Note that the free room in the final column makes the full column unsuitable for bots (not just the room directly beneath it). Thus, the answer is 1 + 1 + 1 + 5 + 1 = 9."
   ]
  },
  {
   "cell_type": "markdown",
   "id": "3f98b5dc-8207-47fe-94fe-508a128cd47d",
   "metadata": {},
   "source": [
    "**Solution:**"
   ]
  },
  {
   "cell_type": "code",
   "execution_count": 9,
   "id": "edc879d5-47ea-4352-ad52-671b7eded307",
   "metadata": {},
   "outputs": [],
   "source": [
    "def solution(matrix):\n",
    "    room = 0\n",
    "    for i in range(len(matrix)):\n",
    "        for j in range(len(matrix[0])):\n",
    "            if i==0:\n",
    "                if matrix[i][j] == 0:\n",
    "                    pass\n",
    "                else:\n",
    "                    room += matrix[i][j] # 4\n",
    "            else:\n",
    "                if matrix[i-1][j] == 0:\n",
    "                    matrix[i][j] = 0\n",
    "                else:\n",
    "                    room += matrix[i][j]\n",
    "    return room"
   ]
  },
  {
   "cell_type": "code",
   "execution_count": 11,
   "id": "e4985ae5-d85b-42ed-b758-1ca4aa054c3c",
   "metadata": {},
   "outputs": [
    {
     "data": {
      "text/plain": [
       "9"
      ]
     },
     "execution_count": 11,
     "metadata": {},
     "output_type": "execute_result"
    }
   ],
   "source": [
    "solution([[0, 1, 1, 2], \n",
    "          [0, 5, 0, 0], \n",
    "          [2, 0, 3, 3]])"
   ]
  },
  {
   "cell_type": "code",
   "execution_count": 15,
   "id": "e6564cb9-ae39-4efc-98e6-2b08fb8ffe28",
   "metadata": {},
   "outputs": [
    {
     "data": {
      "text/plain": [
       "9"
      ]
     },
     "execution_count": 15,
     "metadata": {},
     "output_type": "execute_result"
    }
   ],
   "source": [
    "solution([[1, 1, 1, 0], \n",
    "          [0, 5, 0, 1], \n",
    "          [2, 1, 3, 10]])"
   ]
  }
 ],
 "metadata": {
  "kernelspec": {
   "display_name": "Python 3 (ipykernel)",
   "language": "python",
   "name": "python3"
  },
  "language_info": {
   "codemirror_mode": {
    "name": "ipython",
    "version": 3
   },
   "file_extension": ".py",
   "mimetype": "text/x-python",
   "name": "python",
   "nbconvert_exporter": "python",
   "pygments_lexer": "ipython3",
   "version": "3.12.4"
  }
 },
 "nbformat": 4,
 "nbformat_minor": 5
}
