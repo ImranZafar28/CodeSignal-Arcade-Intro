{
 "cells": [
  {
   "cell_type": "markdown",
   "id": "1f552e89-3191-43fc-a231-26c805f0e334",
   "metadata": {},
   "source": [
    "**Make Array Consecutive 2**\n",
    "\n",
    "Ratiorg got statues of different sizes as a present from CodeMaster for his birthday, each statue having an non-negative integer size. Since he likes to make things perfect, he wants to arrange them from smallest to largest so that each statue will be bigger than the previous one exactly by 1. He may need some additional statues to be able to accomplish that. Help him figure out the minimum number of additional statues needed.\n",
    "\n",
    "**Example**\n",
    "\n",
    "For statues = [6, 2, 3, 8], the output should be solution(statues) = 3.\n",
    "\n",
    "Ratiorg needs statues of sizes 4, 5 and 7."
   ]
  },
  {
   "cell_type": "markdown",
   "id": "b87a5a22-caf1-42d4-976e-f1590cb8f648",
   "metadata": {},
   "source": [
    "**Solution:**"
   ]
  },
  {
   "cell_type": "code",
   "execution_count": 2,
   "id": "263a682f-950c-46c7-bcf8-f2f1ccc31e06",
   "metadata": {},
   "outputs": [],
   "source": [
    "def solution(statues):\n",
    "    l = [x for x in range(min(statues),max(statues)+1)]\n",
    "    return len(l) - len(statues)"
   ]
  },
  {
   "cell_type": "code",
   "execution_count": 4,
   "id": "ab42a949-b9fb-42f9-a4b5-25a4ab79a45f",
   "metadata": {},
   "outputs": [
    {
     "data": {
      "text/plain": [
       "3"
      ]
     },
     "execution_count": 4,
     "metadata": {},
     "output_type": "execute_result"
    }
   ],
   "source": [
    "solution([6, 2, 3, 8])"
   ]
  }
 ],
 "metadata": {
  "kernelspec": {
   "display_name": "Python 3 (ipykernel)",
   "language": "python",
   "name": "python3"
  },
  "language_info": {
   "codemirror_mode": {
    "name": "ipython",
    "version": 3
   },
   "file_extension": ".py",
   "mimetype": "text/x-python",
   "name": "python",
   "nbconvert_exporter": "python",
   "pygments_lexer": "ipython3",
   "version": "3.12.4"
  }
 },
 "nbformat": 4,
 "nbformat_minor": 5
}
