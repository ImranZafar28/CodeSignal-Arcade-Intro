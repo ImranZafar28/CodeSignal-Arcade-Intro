{
 "cells": [
  {
   "cell_type": "markdown",
   "id": "425d56cf-cdf4-4617-8ff0-33192753672c",
   "metadata": {},
   "source": [
    "**depositProfit**\n",
    "\n",
    "You have deposited a specific amount of money into your bank account. Each year your balance increases at the same growth rate. With the assumption that you don't make any additional deposits, find out how long it would take for your balance to pass a specific threshold."
   ]
  },
  {
   "cell_type": "markdown",
   "id": "bd649f06-a0c7-4049-a4ff-bbffd3c43bb7",
   "metadata": {},
   "source": [
    "**Example**\n",
    "\n",
    "For deposit = 100, rate = 20, and threshold = 170, the output should be solution(deposit, rate, threshold) = 3.\n",
    "\n",
    "Each year the amount of money in your account increases by 20%. So throughout the years, your balance would be:\n",
    "\n",
    "year 0: 100;\n",
    "\n",
    "year 1: 120;\n",
    "\n",
    "year 2: 144;\n",
    "\n",
    "year 3: 172.8.\n",
    "\n",
    "Thus, it will take 3 years for your balance to pass the threshold, so the answer is 3."
   ]
  },
  {
   "cell_type": "markdown",
   "id": "d997d531-a4fd-4da3-8851-c12215220bc3",
   "metadata": {},
   "source": [
    "**Solution:**"
   ]
  },
  {
   "cell_type": "code",
   "execution_count": 5,
   "id": "918ce6c4-d23d-4f03-9e62-c52520395c02",
   "metadata": {},
   "outputs": [],
   "source": [
    "def solution(deposit, rate, threshold):\n",
    "    years = 0\n",
    "    while deposit < threshold:\n",
    "        years += 1\n",
    "        profit = rate * deposit / 100\n",
    "        deposit += profit\n",
    "    return years"
   ]
  },
  {
   "cell_type": "code",
   "execution_count": 7,
   "id": "12e9fce6-5178-4c97-b172-dbd450762713",
   "metadata": {},
   "outputs": [
    {
     "data": {
      "text/plain": [
       "3"
      ]
     },
     "execution_count": 7,
     "metadata": {},
     "output_type": "execute_result"
    }
   ],
   "source": [
    "deposit = 100\n",
    "rate = 20\n",
    "threshold = 170\n",
    "solution(deposit, rate, threshold)"
   ]
  }
 ],
 "metadata": {
  "kernelspec": {
   "display_name": "Python 3 (ipykernel)",
   "language": "python",
   "name": "python3"
  },
  "language_info": {
   "codemirror_mode": {
    "name": "ipython",
    "version": 3
   },
   "file_extension": ".py",
   "mimetype": "text/x-python",
   "name": "python",
   "nbconvert_exporter": "python",
   "pygments_lexer": "ipython3",
   "version": "3.12.4"
  }
 },
 "nbformat": 4,
 "nbformat_minor": 5
}
