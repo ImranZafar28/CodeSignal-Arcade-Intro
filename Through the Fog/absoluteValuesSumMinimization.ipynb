{
 "cells": [
  {
   "cell_type": "markdown",
   "id": "ad5f288f-d137-41d6-ba9b-a93eb08e9df0",
   "metadata": {},
   "source": [
    "**absoluteValuesSumMinimization**\n",
    "\n",
    "Given a sorted array of integers a, your task is to determine which element of a is closest to all other values of a. In other words, find the element x in a, which minimizes the following sum:\n",
    "\n",
    "abs(a[0] - x) + abs(a[1] - x) + ... + abs(a[a.length - 1] - x)\n",
    "\n",
    "(where abs denotes the absolute value)\r\n",
    "\r\n",
    "If there are several possible answers, output the smallest one."
   ]
  },
  {
   "cell_type": "markdown",
   "id": "df2654a0-2ad5-4a4a-b0d1-33d71064e149",
   "metadata": {},
   "source": [
    "**Example**\n",
    "\n",
    "For a = [2, 4, 7], the output should be solution(a) = 4.\n",
    "\n",
    "    for x = 2, the value will be abs(2 - 2) + abs(4 - 2) + abs(7 - 2) = 7.\n",
    "\n",
    "    for x = 4, the value will be abs(2 - 4) + abs(4 - 4) + abs(7 - 4) = 5.\n",
    "\n",
    "    for x = 7, the value will be abs(2 - 7) + abs(4 - 7) + abs(7 - 7) = 8.\n",
    "\n",
    "The lowest possible value is when x = 4, so the answer is 4.\n",
    "\n",
    "For a = [2, 3], the output should be solution(a) = 2.\n",
    "\n",
    "    for x = 2, the value will be abs(2 - 2) + abs(3 - 2) = 1.\n",
    "\n",
    "    for x = 3, the value will be abs(2 - 3) + abs(3 - 3) = 1.\n",
    "\n",
    "Because there is a tie, the smallest x between x = 2 and x = 3 is the answer."
   ]
  },
  {
   "cell_type": "markdown",
   "id": "d239d7f2-8d98-4c3a-b22d-b02efb0391c9",
   "metadata": {},
   "source": [
    "**Solution:**"
   ]
  },
  {
   "cell_type": "code",
   "execution_count": 10,
   "id": "22a119f5-17b8-43aa-9982-24d47a3f1400",
   "metadata": {},
   "outputs": [],
   "source": [
    "def solution(a):\n",
    "    d = {}\n",
    "    results = []\n",
    "    s = 0\n",
    "    for i in range(len(a)):\n",
    "        for j in range(len(a)):\n",
    "            s += abs(a[i] - a[j])\n",
    "        d[a[i]] = s\n",
    "        s = 0\n",
    "    temp = min(d.values())\n",
    "    for key, value in d.items():\n",
    "        if value == temp:\n",
    "            results.append(key)\n",
    "    return min(results)"
   ]
  },
  {
   "cell_type": "code",
   "execution_count": 12,
   "id": "e22066fe-e492-42af-a4d1-2084f2bb76b9",
   "metadata": {},
   "outputs": [
    {
     "data": {
      "text/plain": [
       "4"
      ]
     },
     "execution_count": 12,
     "metadata": {},
     "output_type": "execute_result"
    }
   ],
   "source": [
    "a = [2, 4, 7]\n",
    "solution(a)"
   ]
  },
  {
   "cell_type": "code",
   "execution_count": 14,
   "id": "2de5097d-a476-4b9b-9ec7-5f73f21e8395",
   "metadata": {},
   "outputs": [
    {
     "data": {
      "text/plain": [
       "2"
      ]
     },
     "execution_count": 14,
     "metadata": {},
     "output_type": "execute_result"
    }
   ],
   "source": [
    "a = [2, 3]\n",
    "solution(a)"
   ]
  }
 ],
 "metadata": {
  "kernelspec": {
   "display_name": "Python 3 (ipykernel)",
   "language": "python",
   "name": "python3"
  },
  "language_info": {
   "codemirror_mode": {
    "name": "ipython",
    "version": 3
   },
   "file_extension": ".py",
   "mimetype": "text/x-python",
   "name": "python",
   "nbconvert_exporter": "python",
   "pygments_lexer": "ipython3",
   "version": "3.12.4"
  }
 },
 "nbformat": 4,
 "nbformat_minor": 5
}
