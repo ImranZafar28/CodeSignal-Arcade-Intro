{
 "cells": [
  {
   "cell_type": "markdown",
   "id": "498b087e-9dfb-44ee-85f6-7de8efe810e8",
   "metadata": {},
   "source": [
    "**Circle of Numbers**\n",
    "\n",
    "Consider integer numbers from 0 to n - 1 written down along the circle in such a way that the distance between any two neighboring numbers is equal (note that 0 and n - 1 are neighboring, too).\r\n",
    "\r\n",
    "Given n and firstNumber, find the number which is written in the radially opposite position to firstNumber."
   ]
  },
  {
   "cell_type": "markdown",
   "id": "76ee0c47-f73d-4215-8e37-10b6ef6a6d59",
   "metadata": {},
   "source": [
    "**Example**\n",
    "\n",
    "For n = 10 and firstNumber = 2, the output should be solution(n, firstNumber) = 7."
   ]
  },
  {
   "cell_type": "markdown",
   "id": "508b5942-8480-40a1-8238-1243f8ddec30",
   "metadata": {},
   "source": [
    "**Solution:**"
   ]
  },
  {
   "cell_type": "code",
   "execution_count": 4,
   "id": "abf1454e-74bc-4813-a408-32863d0d26e6",
   "metadata": {},
   "outputs": [],
   "source": [
    "def solution(n, firstNumber):\n",
    "    d = n // 2\n",
    "    return firstNumber + d if firstNumber < d else firstNumber - d"
   ]
  },
  {
   "cell_type": "code",
   "execution_count": 6,
   "id": "9c026b85-2bc6-4df2-acbd-c3466a328890",
   "metadata": {},
   "outputs": [
    {
     "data": {
      "text/plain": [
       "7"
      ]
     },
     "execution_count": 6,
     "metadata": {},
     "output_type": "execute_result"
    }
   ],
   "source": [
    "solution(10, 2)"
   ]
  }
 ],
 "metadata": {
  "kernelspec": {
   "display_name": "Python 3 (ipykernel)",
   "language": "python",
   "name": "python3"
  },
  "language_info": {
   "codemirror_mode": {
    "name": "ipython",
    "version": 3
   },
   "file_extension": ".py",
   "mimetype": "text/x-python",
   "name": "python",
   "nbconvert_exporter": "python",
   "pygments_lexer": "ipython3",
   "version": "3.12.4"
  }
 },
 "nbformat": 4,
 "nbformat_minor": 5
}
