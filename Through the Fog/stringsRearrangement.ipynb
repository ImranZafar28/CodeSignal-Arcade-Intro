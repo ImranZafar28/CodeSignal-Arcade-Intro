{
 "cells": [
  {
   "cell_type": "markdown",
   "id": "7bb4a8c4-64b4-4073-a914-1cbc0a6d622d",
   "metadata": {},
   "source": [
    "**stringsRearrangement**\n",
    "\n",
    "Given an array of equal-length strings, you'd like to know if it's possible to rearrange the order of the elements in such a way that each consecutive pair of strings differ by exactly one character. Return true if it's possible, and false if not.\r\n",
    "\r\n",
    "Note: You're only rearranging the order of the strings, not the order of the letters within the strings!"
   ]
  },
  {
   "cell_type": "markdown",
   "id": "f2530ef2-35e7-442f-8c5a-3d2fc1e8bef5",
   "metadata": {},
   "source": [
    "**Example**\n",
    "\n",
    "For inputArray = [\"aba\", \"bbb\", \"bab\"], the output should be solution(inputArray) = false.\n",
    "\n",
    "There are 6 possible arrangements for these strings:\n",
    "\n",
    "    [\"aba\", \"bbb\", \"bab\"]\n",
    "    [\"aba\", \"bab\", \"bbb\"]\n",
    "    [\"bbb\", \"aba\", \"bab\"]\n",
    "    [\"bbb\", \"bab\", \"aba\"]\n",
    "    [\"bab\", \"bbb\", \"aba\"]\n",
    "    [\"bab\", \"aba\", \"bbb\"]\n",
    "\n",
    "None of these satisfy the condition of consecutive strings differing by 1 character, so the answer is false.\n",
    "\n",
    "For inputArray = [\"ab\", \"bb\", \"aa\"], the output should be solution(inputArray) = true.\n",
    "\n",
    "It's possible to arrange these strings in a way that each consecutive pair of strings differ by 1 character (eg: \"aa\", \"ab\", \"bb\" or \"bb\", \"ab\", \"aa\"), so return true."
   ]
  },
  {
   "cell_type": "markdown",
   "id": "4ea351ae-a6f7-4e4e-b295-68ce894dce5e",
   "metadata": {},
   "source": [
    "**Solution:**"
   ]
  },
  {
   "cell_type": "code",
   "execution_count": 4,
   "id": "88d9cc32-8d9e-4f95-8294-9933ef8e6329",
   "metadata": {},
   "outputs": [],
   "source": [
    "def solution(inputArray):\n",
    "    import itertools\n",
    "    permutation = itertools.permutations(inputArray)\n",
    "    for tuples in permutation:\n",
    "        if testArrangement(tuples):\n",
    "            return True\n",
    "    return False\n",
    "\n",
    "def testArrangement(combinations):\n",
    "    for i in range(len(combinations) - 1):\n",
    "        if sum([a != b for a, b in zip(combinations[i], combinations[i + 1])]) != 1: #checking differ by 1\n",
    "            return False\n",
    "    return True"
   ]
  },
  {
   "cell_type": "code",
   "execution_count": 6,
   "id": "f142c4a4-eb46-4e04-b9ff-6954d1386648",
   "metadata": {},
   "outputs": [
    {
     "data": {
      "text/plain": [
       "False"
      ]
     },
     "execution_count": 6,
     "metadata": {},
     "output_type": "execute_result"
    }
   ],
   "source": [
    "inputArray = [\"aba\", \"bbb\", \"bab\"]\n",
    "solution(inputArray)"
   ]
  },
  {
   "cell_type": "code",
   "execution_count": 8,
   "id": "62d181c9-c5bf-4544-b3fc-0294ffe226bb",
   "metadata": {},
   "outputs": [
    {
     "data": {
      "text/plain": [
       "True"
      ]
     },
     "execution_count": 8,
     "metadata": {},
     "output_type": "execute_result"
    }
   ],
   "source": [
    "inputArray = [\"ab\", \"bb\", \"aa\"]\n",
    "solution(inputArray)"
   ]
  }
 ],
 "metadata": {
  "kernelspec": {
   "display_name": "Python 3 (ipykernel)",
   "language": "python",
   "name": "python3"
  },
  "language_info": {
   "codemirror_mode": {
    "name": "ipython",
    "version": 3
   },
   "file_extension": ".py",
   "mimetype": "text/x-python",
   "name": "python",
   "nbconvert_exporter": "python",
   "pygments_lexer": "ipython3",
   "version": "3.12.4"
  }
 },
 "nbformat": 4,
 "nbformat_minor": 5
}
