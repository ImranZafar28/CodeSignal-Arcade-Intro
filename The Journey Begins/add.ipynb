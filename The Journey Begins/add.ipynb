{
 "cells": [
  {
   "cell_type": "markdown",
   "id": "43a1b574-3da7-4942-91e2-f7d02b730082",
   "metadata": {},
   "source": [
    "**add**\n",
    "\n",
    "Write a function that returns the sum of two numbers.\n",
    "\n",
    "**Example**\n",
    "\n",
    "For param1 = 1 and param2 = 2, the output should be solution(param1, param2) = 3."
   ]
  },
  {
   "cell_type": "markdown",
   "id": "613419c9-b378-4764-a451-1b08e77eb380",
   "metadata": {},
   "source": [
    "**Solution:**"
   ]
  },
  {
   "cell_type": "code",
   "execution_count": 10,
   "id": "94266113-5812-422b-8793-1ce5e61e3305",
   "metadata": {},
   "outputs": [],
   "source": [
    "def solution(param1, param2):\n",
    "    return param1 + param2"
   ]
  },
  {
   "cell_type": "code",
   "execution_count": 12,
   "id": "44f52f98-8c64-46c5-9af3-8627920f505c",
   "metadata": {},
   "outputs": [
    {
     "data": {
      "text/plain": [
       "3"
      ]
     },
     "execution_count": 12,
     "metadata": {},
     "output_type": "execute_result"
    }
   ],
   "source": [
    "solution(1, 2)"
   ]
  }
 ],
 "metadata": {
  "kernelspec": {
   "display_name": "Python 3 (ipykernel)",
   "language": "python",
   "name": "python3"
  },
  "language_info": {
   "codemirror_mode": {
    "name": "ipython",
    "version": 3
   },
   "file_extension": ".py",
   "mimetype": "text/x-python",
   "name": "python",
   "nbconvert_exporter": "python",
   "pygments_lexer": "ipython3",
   "version": "3.12.4"
  }
 },
 "nbformat": 4,
 "nbformat_minor": 5
}
