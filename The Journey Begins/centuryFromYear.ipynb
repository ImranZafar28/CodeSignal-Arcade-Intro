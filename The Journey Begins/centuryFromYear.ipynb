{
 "cells": [
  {
   "cell_type": "markdown",
   "id": "6bcfd33a-9b02-409f-82de-f317f33a195a",
   "metadata": {},
   "source": [
    "**centuryFromYear**\n",
    "\n",
    "Given a year, return the century it is in. The first century spans from the year 1 up to and including the year 100, the second - from the year 101 up to and including the year 200, etc.\n",
    "\n",
    "**Example**\n",
    "\n",
    "For year = 1905, the output should be\n",
    "solution(year) = 20\n",
    "\n",
    "For year = 1700, the output should be\n",
    "solution(year) = 17."
   ]
  },
  {
   "cell_type": "markdown",
   "id": "6637a7c1-eb1c-460c-885a-9ee0bb440e28",
   "metadata": {},
   "source": [
    "**Solution 1:**"
   ]
  },
  {
   "cell_type": "code",
   "execution_count": 4,
   "id": "60ad594e-2183-4c39-b3e0-e03f365a7f67",
   "metadata": {},
   "outputs": [],
   "source": [
    "def solution(year):\n",
    "    year += 99\n",
    "    return year // 100"
   ]
  },
  {
   "cell_type": "code",
   "execution_count": 8,
   "id": "1eb755d1-1f31-4309-aca9-83d4a49fd480",
   "metadata": {},
   "outputs": [
    {
     "data": {
      "text/plain": [
       "20"
      ]
     },
     "execution_count": 8,
     "metadata": {},
     "output_type": "execute_result"
    }
   ],
   "source": [
    "solution(1905)"
   ]
  },
  {
   "cell_type": "code",
   "execution_count": 10,
   "id": "ac3ec075-30e7-4154-95eb-a852445593bc",
   "metadata": {},
   "outputs": [
    {
     "data": {
      "text/plain": [
       "17"
      ]
     },
     "execution_count": 10,
     "metadata": {},
     "output_type": "execute_result"
    }
   ],
   "source": [
    "solution(1700)"
   ]
  },
  {
   "cell_type": "markdown",
   "id": "73141c2a-9236-4b9a-bee3-eda4010a01c0",
   "metadata": {},
   "source": [
    "**Solution 2:**"
   ]
  },
  {
   "cell_type": "code",
   "execution_count": 17,
   "id": "c9578566-eeb9-47db-857c-383124ef87c1",
   "metadata": {},
   "outputs": [],
   "source": [
    "def solution2(year):\n",
    "    a = (year - 1)  // 100\n",
    "    return a + 1"
   ]
  },
  {
   "cell_type": "code",
   "execution_count": 19,
   "id": "1eaa830f-5f26-48ff-a5cc-e68c274d401c",
   "metadata": {},
   "outputs": [
    {
     "data": {
      "text/plain": [
       "20"
      ]
     },
     "execution_count": 19,
     "metadata": {},
     "output_type": "execute_result"
    }
   ],
   "source": [
    "solution2(1905)"
   ]
  },
  {
   "cell_type": "code",
   "execution_count": 21,
   "id": "412b0bac-fce1-4c96-9e33-0df1d93f5193",
   "metadata": {},
   "outputs": [
    {
     "data": {
      "text/plain": [
       "17"
      ]
     },
     "execution_count": 21,
     "metadata": {},
     "output_type": "execute_result"
    }
   ],
   "source": [
    "solution2(1700)"
   ]
  }
 ],
 "metadata": {
  "kernelspec": {
   "display_name": "Python 3 (ipykernel)",
   "language": "python",
   "name": "python3"
  },
  "language_info": {
   "codemirror_mode": {
    "name": "ipython",
    "version": 3
   },
   "file_extension": ".py",
   "mimetype": "text/x-python",
   "name": "python",
   "nbconvert_exporter": "python",
   "pygments_lexer": "ipython3",
   "version": "3.12.4"
  }
 },
 "nbformat": 4,
 "nbformat_minor": 5
}
