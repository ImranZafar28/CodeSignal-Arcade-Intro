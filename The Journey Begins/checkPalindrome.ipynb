{
 "cells": [
  {
   "cell_type": "markdown",
   "id": "63da04e8-f2f5-4d2e-bcd9-3ec0e3723f19",
   "metadata": {},
   "source": [
    "**checkPalindrome**\n",
    "\n",
    "Given the string, check if it is a palindrome.\n",
    "\n",
    "**Example**\n",
    "\n",
    "For inputString = \"aabaa\", the output should be solution(inputString) = true;\n",
    "\n",
    "For inputString = \"abac\", the output should be solution(inputString) = false;\n",
    "\n",
    "For inputString = \"a\", the output should be solution(inputString) = true."
   ]
  },
  {
   "cell_type": "markdown",
   "id": "d17ae5c4-9774-4267-9d96-72ccaf91a4a7",
   "metadata": {},
   "source": [
    "**Solution 1:**"
   ]
  },
  {
   "cell_type": "code",
   "execution_count": 5,
   "id": "8691108f-e278-4788-99b6-34125859b200",
   "metadata": {},
   "outputs": [],
   "source": [
    "def solution(inputString):\n",
    "    l = 0\n",
    "    r = len(inputString)-1\n",
    "    for i in range(int(len(inputString)/2)):\n",
    "        if inputString[l] == inputString[r]:\n",
    "            l += 1\n",
    "            r -= 1\n",
    "        else:\n",
    "            return False\n",
    "    return True"
   ]
  },
  {
   "cell_type": "code",
   "execution_count": 9,
   "id": "a303bac0-0e0c-4e87-87ca-332c43e82c47",
   "metadata": {},
   "outputs": [
    {
     "data": {
      "text/plain": [
       "True"
      ]
     },
     "execution_count": 9,
     "metadata": {},
     "output_type": "execute_result"
    }
   ],
   "source": [
    "solution(\"aabaa\")"
   ]
  },
  {
   "cell_type": "code",
   "execution_count": 11,
   "id": "5ca297b9-5b3d-4c01-b644-f5eb297face6",
   "metadata": {},
   "outputs": [
    {
     "data": {
      "text/plain": [
       "False"
      ]
     },
     "execution_count": 11,
     "metadata": {},
     "output_type": "execute_result"
    }
   ],
   "source": [
    "solution(\"abac\")"
   ]
  },
  {
   "cell_type": "code",
   "execution_count": 13,
   "id": "b73cad2a-b3d7-44b7-beb9-db2c76b483f4",
   "metadata": {},
   "outputs": [
    {
     "data": {
      "text/plain": [
       "True"
      ]
     },
     "execution_count": 13,
     "metadata": {},
     "output_type": "execute_result"
    }
   ],
   "source": [
    "solution(\"a\")"
   ]
  },
  {
   "cell_type": "markdown",
   "id": "59e86ee4-9a04-4ec5-a22b-b8bbcb95c828",
   "metadata": {},
   "source": [
    "**Solution 2:**"
   ]
  },
  {
   "cell_type": "code",
   "execution_count": 16,
   "id": "ea4f3389-0a1f-4b99-bff3-c097b08ab316",
   "metadata": {},
   "outputs": [],
   "source": [
    "def solution2(inputString):\n",
    "    return inputString==inputString[::-1]"
   ]
  },
  {
   "cell_type": "code",
   "execution_count": 18,
   "id": "324cad32-2985-4945-9add-7a415045ecc9",
   "metadata": {},
   "outputs": [
    {
     "data": {
      "text/plain": [
       "True"
      ]
     },
     "execution_count": 18,
     "metadata": {},
     "output_type": "execute_result"
    }
   ],
   "source": [
    "solution2(\"aabaa\")"
   ]
  },
  {
   "cell_type": "code",
   "execution_count": 20,
   "id": "68c464b0-e7b4-4bed-a9d0-5dae4a81c3e5",
   "metadata": {},
   "outputs": [
    {
     "data": {
      "text/plain": [
       "False"
      ]
     },
     "execution_count": 20,
     "metadata": {},
     "output_type": "execute_result"
    }
   ],
   "source": [
    "solution2(\"abac\")"
   ]
  },
  {
   "cell_type": "code",
   "execution_count": 22,
   "id": "d724fc63-9a68-4706-b0fd-33e2f892ae72",
   "metadata": {},
   "outputs": [
    {
     "data": {
      "text/plain": [
       "True"
      ]
     },
     "execution_count": 22,
     "metadata": {},
     "output_type": "execute_result"
    }
   ],
   "source": [
    "solution2(\"a\")"
   ]
  }
 ],
 "metadata": {
  "kernelspec": {
   "display_name": "Python 3 (ipykernel)",
   "language": "python",
   "name": "python3"
  },
  "language_info": {
   "codemirror_mode": {
    "name": "ipython",
    "version": 3
   },
   "file_extension": ".py",
   "mimetype": "text/x-python",
   "name": "python",
   "nbconvert_exporter": "python",
   "pygments_lexer": "ipython3",
   "version": "3.12.4"
  }
 },
 "nbformat": 4,
 "nbformat_minor": 5
}
