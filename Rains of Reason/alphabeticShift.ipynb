{
 "cells": [
  {
   "cell_type": "markdown",
   "id": "dda87f53-91fc-42fd-b799-8ee33c0cc56a",
   "metadata": {},
   "source": [
    "**alphabeticShift**\n",
    "\n",
    "Given a string, your task is to replace each of its characters by the next one in the English alphabet; i.e. replace a with b, replace b with c, etc (z would be replaced by a).z\"."
   ]
  },
  {
   "cell_type": "markdown",
   "id": "1d1ddd6d-ea3b-4fbe-a980-1e299948ca4b",
   "metadata": {},
   "source": [
    "**Example**\n",
    "\n",
    "For inputString = \"crazy\", the output should be solution(inputString) = \"dsbaz\"."
   ]
  },
  {
   "cell_type": "markdown",
   "id": "ecf54118-7628-472e-ba30-2a49712e75b1",
   "metadata": {},
   "source": [
    "**Solution:**"
   ]
  },
  {
   "cell_type": "code",
   "execution_count": 5,
   "id": "35f3b21f-f2b5-444f-a374-22ad1078fcda",
   "metadata": {},
   "outputs": [],
   "source": [
    "def solution(inputString):\n",
    "    new = ''\n",
    "    for i in range(len(inputString)):\n",
    "        if inputString[i] == 'z':\n",
    "            new = new + 'a'\n",
    "        else:\n",
    "            a = ord(inputString[i]) + 1\n",
    "            new = new + chr(a)\n",
    "    return new"
   ]
  },
  {
   "cell_type": "code",
   "execution_count": 7,
   "id": "fe518e18-1ef8-4869-b9ac-33f66237fd8e",
   "metadata": {},
   "outputs": [
    {
     "data": {
      "text/plain": [
       "'dsbaz'"
      ]
     },
     "execution_count": 7,
     "metadata": {},
     "output_type": "execute_result"
    }
   ],
   "source": [
    "solution(\"crazy\")"
   ]
  }
 ],
 "metadata": {
  "kernelspec": {
   "display_name": "Python 3 (ipykernel)",
   "language": "python",
   "name": "python3"
  },
  "language_info": {
   "codemirror_mode": {
    "name": "ipython",
    "version": 3
   },
   "file_extension": ".py",
   "mimetype": "text/x-python",
   "name": "python",
   "nbconvert_exporter": "python",
   "pygments_lexer": "ipython3",
   "version": "3.12.4"
  }
 },
 "nbformat": 4,
 "nbformat_minor": 5
}
