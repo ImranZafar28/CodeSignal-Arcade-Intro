{
 "cells": [
  {
   "cell_type": "markdown",
   "id": "936959f9-2318-4eb6-96a9-cad8289998a0",
   "metadata": {},
   "source": [
    "**chessBoardCellColor**\n",
    "\n",
    "Given two cells on the standard chess board, determine whether they have the same color or not."
   ]
  },
  {
   "cell_type": "markdown",
   "id": "bf962fff-a800-44fb-938e-66f65195cdd4",
   "metadata": {},
   "source": [
    "**Example**\n",
    "\n",
    "For cell1 = \"A1\" and cell2 = \"C3\", the output should be solution(cell1, cell2) = true.\n",
    "\n",
    "For cell1 = \"A1\" and cell2 = \"H3\", the output should be \n",
    "solution(cell1, cell2) = false."
   ]
  },
  {
   "cell_type": "markdown",
   "id": "2ff11cb8-32d6-4b77-8044-b11bfad79e20",
   "metadata": {},
   "source": [
    "**Solution:**"
   ]
  },
  {
   "cell_type": "code",
   "execution_count": 4,
   "id": "8d57d8af-37f4-4531-9419-21327b5db60b",
   "metadata": {},
   "outputs": [],
   "source": [
    "def solution(cell1, cell2):\n",
    "    dark = ['A1', 'A3', 'A5', 'A7', 'B2', 'B4', 'B6', 'B8',\n",
    "            'C1', 'C3', 'C5', 'C7', 'D2', 'D4', 'D6', 'D8',\n",
    "            'E1', 'E3', 'E5', 'E7', 'F2', 'F4', 'F6', 'F8',\n",
    "            'G1', 'G3', 'G5', 'G7', 'H2', 'H4', 'H6', 'H8',]\n",
    "            \n",
    "    light = ['A2', 'A4', 'A6', 'A8', 'B1', 'B3', 'B5', 'B7',\n",
    "            'C2', 'C4', 'C6', 'C8', 'D1', 'D3', 'D5', 'D7',\n",
    "            'E2', 'E4', 'E6', 'E8', 'F1', 'F3', 'F5', 'F7',\n",
    "            'G2', 'G4', 'G6', 'G8', 'H1', 'H3', 'H5', 'H7',]\n",
    "            \n",
    "    if cell1 in dark and cell2 in dark:\n",
    "        return True\n",
    "    elif cell1 in light and cell2 in light:\n",
    "        return True\n",
    "    else:\n",
    "        return False"
   ]
  },
  {
   "cell_type": "code",
   "execution_count": 6,
   "id": "0c0402cf-a8a7-492e-b68f-911d2d94c66d",
   "metadata": {},
   "outputs": [
    {
     "data": {
      "text/plain": [
       "True"
      ]
     },
     "execution_count": 6,
     "metadata": {},
     "output_type": "execute_result"
    }
   ],
   "source": [
    "cell1 = \"A1\"\n",
    "cell2 = \"C3\"\n",
    "solution(cell1, cell2)"
   ]
  },
  {
   "cell_type": "code",
   "execution_count": 8,
   "id": "41986676-b4cd-4a23-b94b-268ca2a2fb5f",
   "metadata": {},
   "outputs": [
    {
     "data": {
      "text/plain": [
       "False"
      ]
     },
     "execution_count": 8,
     "metadata": {},
     "output_type": "execute_result"
    }
   ],
   "source": [
    "cell1 = \"A1\"\n",
    "cell2 = \"H3\"\n",
    "solution(cell1, cell2)"
   ]
  }
 ],
 "metadata": {
  "kernelspec": {
   "display_name": "Python 3 (ipykernel)",
   "language": "python",
   "name": "python3"
  },
  "language_info": {
   "codemirror_mode": {
    "name": "ipython",
    "version": 3
   },
   "file_extension": ".py",
   "mimetype": "text/x-python",
   "name": "python",
   "nbconvert_exporter": "python",
   "pygments_lexer": "ipython3",
   "version": "3.12.4"
  }
 },
 "nbformat": 4,
 "nbformat_minor": 5
}
