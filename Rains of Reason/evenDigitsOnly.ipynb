{
 "cells": [
  {
   "cell_type": "markdown",
   "id": "4870f3c8-ef7c-4674-9dc3-0fef15d4af1f",
   "metadata": {},
   "source": [
    "**evenDigitsOnly**\n",
    "\n",
    "Check if all digits of the given integer are even."
   ]
  },
  {
   "cell_type": "markdown",
   "id": "ab3aca21-01ff-4941-9ba0-ade1c61c7fdc",
   "metadata": {},
   "source": [
    "**Example**\n",
    "\n",
    "For n = 248622, the output should be solution(n) = true;\n",
    "\n",
    "For n = 642386, the output should be solution(n) = false."
   ]
  },
  {
   "cell_type": "markdown",
   "id": "c5c65f7b-5bbc-40c5-b710-7debe88343d9",
   "metadata": {},
   "source": [
    "**Solution:**"
   ]
  },
  {
   "cell_type": "code",
   "execution_count": 5,
   "id": "efd5819d-fe24-47ba-8eb3-55dc7f6f1658",
   "metadata": {},
   "outputs": [],
   "source": [
    "def solution(n):\n",
    "    a = str(n)\n",
    "    for i in a:\n",
    "        if int(i)%2 == 1:\n",
    "            return False\n",
    "    return True"
   ]
  },
  {
   "cell_type": "code",
   "execution_count": 7,
   "id": "7d9d112a-c6b0-4f6d-be9a-cfa8b17e0b9a",
   "metadata": {},
   "outputs": [
    {
     "data": {
      "text/plain": [
       "True"
      ]
     },
     "execution_count": 7,
     "metadata": {},
     "output_type": "execute_result"
    }
   ],
   "source": [
    "solution(248622)"
   ]
  },
  {
   "cell_type": "code",
   "execution_count": 9,
   "id": "d85adb1c-ed6a-450f-9885-27dcb06ed26c",
   "metadata": {},
   "outputs": [
    {
     "data": {
      "text/plain": [
       "False"
      ]
     },
     "execution_count": 9,
     "metadata": {},
     "output_type": "execute_result"
    }
   ],
   "source": [
    "solution(642386)"
   ]
  }
 ],
 "metadata": {
  "kernelspec": {
   "display_name": "Python 3 (ipykernel)",
   "language": "python",
   "name": "python3"
  },
  "language_info": {
   "codemirror_mode": {
    "name": "ipython",
    "version": 3
   },
   "file_extension": ".py",
   "mimetype": "text/x-python",
   "name": "python",
   "nbconvert_exporter": "python",
   "pygments_lexer": "ipython3",
   "version": "3.12.4"
  }
 },
 "nbformat": 4,
 "nbformat_minor": 5
}
