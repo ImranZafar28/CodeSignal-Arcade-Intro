{
 "cells": [
  {
   "cell_type": "markdown",
   "id": "8075e66e-ef02-41e1-bd5e-6394f51d5d7f",
   "metadata": {},
   "source": [
    "**variableName**\n",
    "\n",
    "Correct variable names consist only of English letters, digits and underscores and they can't start with a digit.\r\n",
    "\r\n",
    "Check if the given string is a correct variable name."
   ]
  },
  {
   "cell_type": "markdown",
   "id": "a1c86ef7-e4cd-4b5e-8401-7cac7e7e2888",
   "metadata": {},
   "source": [
    "**Example**\n",
    "\n",
    "For name = \"var_1__Int\", the output should be solution(name) = true;\n",
    "\n",
    "For name = \"qq-q\", the output should be solution(name) = false;\n",
    "\n",
    "For name = \"2w2\", the output should be solution(name) = false."
   ]
  },
  {
   "cell_type": "markdown",
   "id": "0be44fd2-1a0b-41e9-a029-8f594cab924c",
   "metadata": {},
   "source": [
    "**Solution:**"
   ]
  },
  {
   "cell_type": "code",
   "execution_count": 4,
   "id": "8be5e9ee-0172-409a-b5f4-a12e7b5b933e",
   "metadata": {},
   "outputs": [],
   "source": [
    "def solution(name):\n",
    "    import string\n",
    "    l = string.ascii_lowercase\n",
    "    u = string.ascii_uppercase\n",
    "    d = string.digits\n",
    "    if name[0] in d:\n",
    "        return False\n",
    "    for i in name:\n",
    "        if i in l or i in u or i in d or i == '_':\n",
    "            pass\n",
    "        else:\n",
    "            return False\n",
    "    return True"
   ]
  },
  {
   "cell_type": "code",
   "execution_count": 6,
   "id": "13de0f74-59fd-4ca6-84d7-28173749e378",
   "metadata": {},
   "outputs": [
    {
     "data": {
      "text/plain": [
       "True"
      ]
     },
     "execution_count": 6,
     "metadata": {},
     "output_type": "execute_result"
    }
   ],
   "source": [
    "name = \"var_1__Int\"\n",
    "solution(name)"
   ]
  },
  {
   "cell_type": "code",
   "execution_count": 10,
   "id": "32257ba6-e552-449b-b89d-d9411d954e65",
   "metadata": {},
   "outputs": [
    {
     "data": {
      "text/plain": [
       "False"
      ]
     },
     "execution_count": 10,
     "metadata": {},
     "output_type": "execute_result"
    }
   ],
   "source": [
    "name = \"qq-q\"\n",
    "solution(name)"
   ]
  },
  {
   "cell_type": "code",
   "execution_count": 12,
   "id": "73c9842a-8042-4584-8cac-63af47c96fb7",
   "metadata": {},
   "outputs": [
    {
     "data": {
      "text/plain": [
       "False"
      ]
     },
     "execution_count": 12,
     "metadata": {},
     "output_type": "execute_result"
    }
   ],
   "source": [
    "name = \"2w2\"\n",
    "solution(name)"
   ]
  }
 ],
 "metadata": {
  "kernelspec": {
   "display_name": "Python 3 (ipykernel)",
   "language": "python",
   "name": "python3"
  },
  "language_info": {
   "codemirror_mode": {
    "name": "ipython",
    "version": 3
   },
   "file_extension": ".py",
   "mimetype": "text/x-python",
   "name": "python",
   "nbconvert_exporter": "python",
   "pygments_lexer": "ipython3",
   "version": "3.12.4"
  }
 },
 "nbformat": 4,
 "nbformat_minor": 5
}
