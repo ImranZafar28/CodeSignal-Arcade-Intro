{
 "cells": [
  {
   "cell_type": "markdown",
   "id": "b4280952-1190-48e4-a3f3-9054ba929e56",
   "metadata": {},
   "source": [
    "**Array Replace**\n",
    "\n",
    "Given an array of integers, replace all the occurrences of elemToReplace with substitutionElem."
   ]
  },
  {
   "cell_type": "markdown",
   "id": "b034fb13-229d-492c-9b26-576fad182d80",
   "metadata": {},
   "source": [
    "**Example**\n",
    "\n",
    "For inputArray = [1, 2, 1], elemToReplace = 1, and substitutionElem = 3,\n",
    "\n",
    "the output should be solution(inputArray, elemToReplace, substitutionElem) = [3, 2, 3]."
   ]
  },
  {
   "cell_type": "markdown",
   "id": "b4ba6742-ea73-454e-89e3-5e7cdafc1907",
   "metadata": {},
   "source": [
    "**Solution:**"
   ]
  },
  {
   "cell_type": "code",
   "execution_count": 5,
   "id": "f68166b7-9356-493a-8278-7ecb7d59b41e",
   "metadata": {},
   "outputs": [],
   "source": [
    "def solution(inputArray, elemToReplace, substitutionElem):\n",
    "    for i in range(len(inputArray)):\n",
    "        if inputArray[i] == elemToReplace:\n",
    "            inputArray[i] = substitutionElem\n",
    "    return inputArray"
   ]
  },
  {
   "cell_type": "code",
   "execution_count": 7,
   "id": "b534622c-603a-4655-a849-fa7b013b73ad",
   "metadata": {},
   "outputs": [
    {
     "data": {
      "text/plain": [
       "[3, 2, 3]"
      ]
     },
     "execution_count": 7,
     "metadata": {},
     "output_type": "execute_result"
    }
   ],
   "source": [
    "inputArray = [1, 2, 1]\n",
    "elemToReplace = 1\n",
    "substitutionElem = 3\n",
    "solution(inputArray, elemToReplace, substitutionElem)"
   ]
  }
 ],
 "metadata": {
  "kernelspec": {
   "display_name": "Python 3 (ipykernel)",
   "language": "python",
   "name": "python3"
  },
  "language_info": {
   "codemirror_mode": {
    "name": "ipython",
    "version": 3
   },
   "file_extension": ".py",
   "mimetype": "text/x-python",
   "name": "python",
   "nbconvert_exporter": "python",
   "pygments_lexer": "ipython3",
   "version": "3.12.4"
  }
 },
 "nbformat": 4,
 "nbformat_minor": 5
}
